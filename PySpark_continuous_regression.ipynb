{
 "cells": [
  {
   "cell_type": "code",
   "execution_count": null,
   "metadata": {
    "collapsed": true
   },
   "outputs": [],
   "source": [
    "# this workbook demonstrates how to use PySparkML to do single variable continuous regression\n",
    "# we'll use per captita 2007 national gdp to predict national 2007 life expectency\n",
    "# using\n",
    "# 1) linear regression\n",
    "# 2) decision tree regression\n",
    "# 3) random forest regression"
   ]
  },
  {
   "cell_type": "code",
   "execution_count": null,
   "metadata": {
    "collapsed": true
   },
   "outputs": [],
   "source": [
    "from pyspark import SparkConf, SparkContext\n",
    "from pyspark.sql import SQLContext\n",
    "\n",
    "from pyspark.ml.regression import LinearRegression\n",
    "from pyspark.ml.regression import RandomForestRegressor\n",
    "from pyspark.ml.feature import VectorAssembler\n",
    "from pyspark.ml.regression import DecisionTreeRegressor\n",
    "from pyspark.sql.session import SparkSession"
   ]
  },
  {
   "cell_type": "code",
   "execution_count": null,
   "metadata": {
    "collapsed": true
   },
   "outputs": [],
   "source": [
    "# NOTE: you only need to create a local context if you are not \n",
    "# runnin this on a spark cluster.\n",
    "# if you are on a spark cluster, a spark session will be \n",
    "# initiated in the background and will be accessible as \"spark\""
   ]
  },
  {
   "cell_type": "code",
   "execution_count": 1,
   "metadata": {
    "collapsed": true
   },
   "outputs": [],
   "source": [
    "sc = SparkContext('local')\n",
    "spark = SparkSession(sc)"
   ]
  },
  {
   "cell_type": "code",
   "execution_count": 4,
   "metadata": {
    "collapsed": true
   },
   "outputs": [],
   "source": [
    "sqlContext = SQLContext(sc)"
   ]
  },
  {
   "cell_type": "code",
   "execution_count": 5,
   "metadata": {
    "collapsed": true
   },
   "outputs": [],
   "source": [
    "# read data a sqlContext\n",
    "# this will provide consistency with spark dataframes that result\n",
    "# from a sql query rather than a csv file upload. \n",
    "\n",
    "df = sqlContext.read.format(\"csv\").option(\"inferschema\",\"true\").option(\"header\", \"true\").option(\"delimiter\", \",\").load(\"gapminder_all_binary.csv\")"
   ]
  },
  {
   "cell_type": "code",
   "execution_count": 18,
   "metadata": {},
   "outputs": [
    {
     "name": "stdout",
     "output_type": "stream",
     "text": [
      "root\n",
      " |-- continent: string (nullable = true)\n",
      " |-- country: string (nullable = true)\n",
      " |-- gdpPercap_1952: double (nullable = true)\n",
      " |-- gdpPercap_1957: double (nullable = true)\n",
      " |-- gdpPercap_1962: double (nullable = true)\n",
      " |-- gdpPercap_1967: double (nullable = true)\n",
      " |-- gdpPercap_1972: double (nullable = true)\n",
      " |-- gdpPercap_1977: double (nullable = true)\n",
      " |-- gdpPercap_1982: double (nullable = true)\n",
      " |-- gdpPercap_1987: double (nullable = true)\n",
      " |-- gdpPercap_1992: double (nullable = true)\n",
      " |-- gdpPercap_1997: double (nullable = true)\n",
      " |-- gdpPercap_2002: double (nullable = true)\n",
      " |-- gdpPercap_2007: double (nullable = true)\n",
      " |-- lifeExp_1952: double (nullable = true)\n",
      " |-- lifeExp_1957: double (nullable = true)\n",
      " |-- lifeExp_1962: double (nullable = true)\n",
      " |-- lifeExp_1967: double (nullable = true)\n",
      " |-- lifeExp_1972: double (nullable = true)\n",
      " |-- lifeExp_1977: double (nullable = true)\n",
      " |-- lifeExp_1982: double (nullable = true)\n",
      " |-- lifeExp_1987: double (nullable = true)\n",
      " |-- lifeExp_1992: double (nullable = true)\n",
      " |-- lifeExp_1997: double (nullable = true)\n",
      " |-- lifeExp_2002: double (nullable = true)\n",
      " |-- lifeExp_2007: double (nullable = true)\n",
      " |-- pop_1952: double (nullable = true)\n",
      " |-- pop_1957: decimal(9,0) (nullable = true)\n",
      " |-- pop_1962: decimal(9,0) (nullable = true)\n",
      " |-- pop_1967: decimal(9,0) (nullable = true)\n",
      " |-- pop_1972: decimal(9,0) (nullable = true)\n",
      " |-- pop_1977: decimal(9,0) (nullable = true)\n",
      " |-- pop_1982: decimal(10,0) (nullable = true)\n",
      " |-- pop_1987: decimal(10,0) (nullable = true)\n",
      " |-- pop_1992: decimal(10,0) (nullable = true)\n",
      " |-- pop_1997: decimal(10,0) (nullable = true)\n",
      " |-- pop_2002: integer (nullable = true)\n",
      " |-- pop_2007: integer (nullable = true)\n",
      " |-- Over_65: integer (nullable = true)\n",
      "\n"
     ]
    }
   ],
   "source": [
    "# dataframe schema (including headers and datatypes)\n",
    "df.printSchema()"
   ]
  },
  {
   "cell_type": "code",
   "execution_count": 19,
   "metadata": {},
   "outputs": [
    {
     "name": "stdout",
     "output_type": "stream",
     "text": [
      "+-------------+------------+\n",
      "|     features|lifeExp_2007|\n",
      "+-------------+------------+\n",
      "|[6223.367465]|      72.301|\n",
      "|[4797.231267]|      42.731|\n",
      "|[1441.284873]|      56.728|\n",
      "+-------------+------------+\n",
      "only showing top 3 rows\n",
      "\n"
     ]
    }
   ],
   "source": [
    "# identify input and target columns for a regression\n",
    "# note - we are doing a single variable regression, but you can add multiple \n",
    "# columns to the inputCols vector\n",
    "\n",
    "vectorAssembler = VectorAssembler(inputCols = ['gdpPercap_2007'], outputCol = 'features')\n",
    "va = vectorAssembler.transform(df)\n",
    "va = va.select(['features', 'lifeExp_2007'])\n",
    "va.show(3)"
   ]
  },
  {
   "cell_type": "code",
   "execution_count": null,
   "metadata": {
    "collapsed": true
   },
   "outputs": [],
   "source": [
    "# create a regression model"
   ]
  },
  {
   "cell_type": "code",
   "execution_count": 8,
   "metadata": {
    "collapsed": true
   },
   "outputs": [],
   "source": [
    "lr = LinearRegression(featuresCol = 'features', labelCol='lifeExp_2007', maxIter=10, regParam=0.3, elasticNetParam=0.8)"
   ]
  },
  {
   "cell_type": "code",
   "execution_count": 20,
   "metadata": {
    "collapsed": true
   },
   "outputs": [],
   "source": [
    "# fit the input columns to the target columns specified in the vector assembler, above"
   ]
  },
  {
   "cell_type": "code",
   "execution_count": 9,
   "metadata": {},
   "outputs": [
    {
     "name": "stdout",
     "output_type": "stream",
     "text": [
      "Coefficients: [0.0006153365628308622]\n",
      "Intercept: 59.820247287949805\n"
     ]
    }
   ],
   "source": [
    "lr_model = lr.fit(va)\n",
    "print(\"Coefficients: \" + str(lr_model.coefficients))\n",
    "print(\"Intercept: \" + str(lr_model.intercept))"
   ]
  },
  {
   "cell_type": "code",
   "execution_count": 21,
   "metadata": {
    "collapsed": true
   },
   "outputs": [],
   "source": [
    "# predictions based on the original regression\n",
    "# note that we didn't split into a train and test set\n",
    "# so we are doing predictions on the same data used to fit the regression model"
   ]
  },
  {
   "cell_type": "code",
   "execution_count": 22,
   "metadata": {
    "collapsed": true
   },
   "outputs": [],
   "source": [
    "lr_predictions = lr_model.transform(va)"
   ]
  },
  {
   "cell_type": "code",
   "execution_count": 23,
   "metadata": {},
   "outputs": [
    {
     "name": "stdout",
     "output_type": "stream",
     "text": [
      "+-------------+------------+------------------+\n",
      "|     features|lifeExp_2007|        prediction|\n",
      "+-------------+------------+------------------+\n",
      "|[6223.367465]|      72.301| 63.64971283309632|\n",
      "|[4797.231267]|      42.731|62.772159086890326|\n",
      "|[1441.284873]|      56.728| 60.70712256776174|\n",
      "|[12569.85177]|      50.728| 67.55493667139504|\n",
      "|[1217.032994]|      52.295|60.569132187329515|\n",
      "|[430.0706916]|       49.58| 60.08488550909324|\n",
      "| [2042.09524]|       50.43| 61.07682315390467|\n",
      "| [706.016537]|      44.741| 60.25468507712913|\n",
      "|[1704.063724]|      50.651|60.868820002720724|\n",
      "|[986.1478792]|      65.152| 60.42706013437968|\n",
      "|[277.5518587]|      46.462| 59.99103509468958|\n",
      "|[3632.557798]|      55.322| 62.05549291765557|\n",
      "|[1544.750112]|      48.328| 60.77078851230048|\n",
      "|[2082.481567]|      54.791|61.101674337546214|\n",
      "|[5581.180998]|      71.338|63.254552019796044|\n",
      "|[12154.08975]|      51.579| 67.29910309905262|\n",
      "|[641.3695236]|       58.04|  60.2149054061063|\n",
      "|[690.8055759]|      52.947| 60.24532521660851|\n",
      "|[13206.48452]|      56.735|  67.9466800795656|\n",
      "|[752.7497265]|      59.448|60.283441717326184|\n",
      "+-------------+------------+------------------+\n",
      "only showing top 20 rows\n",
      "\n"
     ]
    }
   ],
   "source": [
    "lr_predictions.show()"
   ]
  },
  {
   "cell_type": "code",
   "execution_count": 24,
   "metadata": {
    "collapsed": true
   },
   "outputs": [],
   "source": [
    "# creaate and train a decision tree regressor"
   ]
  },
  {
   "cell_type": "code",
   "execution_count": 27,
   "metadata": {
    "collapsed": true
   },
   "outputs": [],
   "source": [
    "dt = DecisionTreeRegressor(featuresCol ='features', labelCol = 'lifeExp_2007')"
   ]
  },
  {
   "cell_type": "code",
   "execution_count": 28,
   "metadata": {
    "collapsed": true
   },
   "outputs": [],
   "source": [
    "dt_model = dt.fit(va)"
   ]
  },
  {
   "cell_type": "code",
   "execution_count": 29,
   "metadata": {
    "collapsed": true
   },
   "outputs": [],
   "source": [
    "dt_predictions = dt_model.transform(va)"
   ]
  },
  {
   "cell_type": "code",
   "execution_count": 30,
   "metadata": {},
   "outputs": [
    {
     "name": "stdout",
     "output_type": "stream",
     "text": [
      "+-------------+------------+------------------+\n",
      "|     features|lifeExp_2007|        prediction|\n",
      "+-------------+------------+------------------+\n",
      "|[6223.367465]|      72.301| 73.22146153846154|\n",
      "|[4797.231267]|      42.731| 62.27840000000001|\n",
      "|[1441.284873]|      56.728|55.833111111111116|\n",
      "|[12569.85177]|      50.728| 69.74871428571429|\n",
      "|[1217.032994]|      52.295|55.833111111111116|\n",
      "|[430.0706916]|       49.58|          46.30175|\n",
      "| [2042.09524]|       50.43|53.694500000000005|\n",
      "| [706.016537]|      44.741|           51.7966|\n",
      "|[1704.063724]|      50.651| 59.39999999999998|\n",
      "|[986.1478792]|      65.152|55.833111111111116|\n",
      "|[277.5518587]|      46.462|          46.30175|\n",
      "|[3632.557798]|      55.322|           66.9268|\n",
      "|[1544.750112]|      48.328|55.833111111111116|\n",
      "|[2082.481567]|      54.791|53.694500000000005|\n",
      "|[5581.180998]|      71.338| 73.22146153846154|\n",
      "|[12154.08975]|      51.579| 69.74871428571429|\n",
      "|[641.3695236]|       58.04|           51.7966|\n",
      "|[690.8055759]|      52.947|           51.7966|\n",
      "|[13206.48452]|      56.735| 69.74871428571429|\n",
      "|[752.7497265]|      59.448|          48.10025|\n",
      "+-------------+------------+------------------+\n",
      "only showing top 20 rows\n",
      "\n"
     ]
    }
   ],
   "source": [
    "dt_predictions.show()"
   ]
  },
  {
   "cell_type": "code",
   "execution_count": null,
   "metadata": {
    "collapsed": true
   },
   "outputs": [],
   "source": [
    "# train a random forest regressor"
   ]
  },
  {
   "cell_type": "code",
   "execution_count": 31,
   "metadata": {
    "collapsed": true
   },
   "outputs": [],
   "source": [
    "rf = RandomForestRegressor(featuresCol ='features', labelCol = 'lifeExp_2007')"
   ]
  },
  {
   "cell_type": "code",
   "execution_count": 32,
   "metadata": {
    "collapsed": true
   },
   "outputs": [],
   "source": [
    "rf_model = rf.fit(va)"
   ]
  },
  {
   "cell_type": "code",
   "execution_count": 33,
   "metadata": {
    "collapsed": true
   },
   "outputs": [],
   "source": [
    "rf_predictions = rf_model.transform(va)"
   ]
  },
  {
   "cell_type": "code",
   "execution_count": 34,
   "metadata": {},
   "outputs": [
    {
     "name": "stdout",
     "output_type": "stream",
     "text": [
      "+-------------+------------+------------------+\n",
      "|     features|lifeExp_2007|        prediction|\n",
      "+-------------+------------+------------------+\n",
      "|[6223.367465]|      72.301| 73.10251915241271|\n",
      "|[4797.231267]|      42.731|62.846878571428576|\n",
      "|[1441.284873]|      56.728| 56.29677115811309|\n",
      "|[12569.85177]|      50.728| 70.90033271868529|\n",
      "|[1217.032994]|      52.295| 56.33857485466508|\n",
      "|[430.0706916]|       49.58|46.946000952380956|\n",
      "| [2042.09524]|       50.43|55.265737142857134|\n",
      "| [706.016537]|      44.741| 52.57729714610658|\n",
      "|[1704.063724]|      50.651|59.383401164021166|\n",
      "|[986.1478792]|      65.152| 55.77750256510278|\n",
      "|[277.5518587]|      46.462|46.946000952380956|\n",
      "|[3632.557798]|      55.322| 66.33972017551892|\n",
      "|[1544.750112]|      48.328|55.788333984533985|\n",
      "|[2082.481567]|      54.791|55.265737142857134|\n",
      "|[5581.180998]|      71.338| 73.00404920410443|\n",
      "|[12154.08975]|      51.579| 70.11608932124942|\n",
      "|[641.3695236]|       58.04| 52.57729714610658|\n",
      "|[690.8055759]|      52.947| 52.57729714610658|\n",
      "|[13206.48452]|      56.735|  69.1114966765873|\n",
      "|[752.7497265]|      59.448|48.693465003249436|\n",
      "+-------------+------------+------------------+\n",
      "only showing top 20 rows\n",
      "\n"
     ]
    }
   ],
   "source": [
    "rf_predictions.show()"
   ]
  },
  {
   "cell_type": "code",
   "execution_count": null,
   "metadata": {
    "collapsed": true
   },
   "outputs": [],
   "source": []
  },
  {
   "cell_type": "code",
   "execution_count": null,
   "metadata": {
    "collapsed": true
   },
   "outputs": [],
   "source": []
  },
  {
   "cell_type": "code",
   "execution_count": null,
   "metadata": {
    "collapsed": true
   },
   "outputs": [],
   "source": []
  },
  {
   "cell_type": "code",
   "execution_count": null,
   "metadata": {
    "collapsed": true
   },
   "outputs": [],
   "source": []
  }
 ],
 "metadata": {
  "kernelspec": {
   "display_name": "Python 3",
   "language": "python",
   "name": "python3"
  },
  "language_info": {
   "codemirror_mode": {
    "name": "ipython",
    "version": 3
   },
   "file_extension": ".py",
   "mimetype": "text/x-python",
   "name": "python",
   "nbconvert_exporter": "python",
   "pygments_lexer": "ipython3",
   "version": "3.5.4"
  }
 },
 "nbformat": 4,
 "nbformat_minor": 2
}
