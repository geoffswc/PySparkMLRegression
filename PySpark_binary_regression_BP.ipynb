{
 "cells": [
  {
   "cell_type": "code",
   "execution_count": 1,
   "metadata": {},
   "outputs": [],
   "source": [
    "# this workbook demonstrates how to use PySparkML to do multi variable binary regression\n",
    "# the setup is a bit contrived, since this is a how-to demo\n",
    "# \n",
    "# we start by using a fabricated data set (see Generate_Dummy_BP_Data.ipynb). \n",
    "# this script generates a random bmi, systolic, and diastolic readings. There are\n",
    "# no correlations built into the script, random uniform numbers within a range.\n",
    "#\n",
    "# we then \n",
    "# 1) train a regression model to predict whether tahe patient will be coded\n",
    "# as hypertensive based on systolic and diastolic blood pressure\n",
    "# 2) apply this model on a test data set and view the predictions\n",
    "# 3) view the estimated error on the test set\n",
    "# 4) view the decision tree to investigate cutoff values for various inputs\n",
    "# \n",
    "# we will do this with a random forest regressor, but most of it should work with other\n",
    "# various other Spark ML regressors, depending on the algorithm\n",
    "# \n",
    "# docs are here: (https://spark.apache.org/docs/latest/ml-classification-regression.html)\n",
    "#"
   ]
  },
  {
   "cell_type": "code",
   "execution_count": 2,
   "metadata": {
    "collapsed": true
   },
   "outputs": [],
   "source": [
    "from pyspark import SparkConf, SparkContext\n",
    "from pyspark.sql import SQLContext\n",
    "from pyspark.ml.evaluation import RegressionEvaluator"
   ]
  },
  {
   "cell_type": "code",
   "execution_count": 3,
   "metadata": {},
   "outputs": [],
   "source": [
    "from pyspark.sql.session import SparkSession\n",
    "sc = SparkContext('local')\n",
    "spark = SparkSession(sc)"
   ]
  },
  {
   "cell_type": "code",
   "execution_count": 4,
   "metadata": {
    "collapsed": true
   },
   "outputs": [],
   "source": [
    "sqlContext = SQLContext(sc)"
   ]
  },
  {
   "cell_type": "code",
   "execution_count": 5,
   "metadata": {
    "collapsed": true
   },
   "outputs": [],
   "source": [
    "df = sqlContext.read.format(\"csv\").option(\"inferschema\",\"true\").option(\"header\", \"true\").option(\"delimiter\", \",\").load(\"hypertensive1.csv\")"
   ]
  },
  {
   "cell_type": "code",
   "execution_count": 6,
   "metadata": {},
   "outputs": [
    {
     "name": "stdout",
     "output_type": "stream",
     "text": [
      "+---+--------+---------+------------+\n",
      "|bmi|systolic|diastolic|hypertensive|\n",
      "+---+--------+---------+------------+\n",
      "| 22|     129|       80|           1|\n",
      "| 19|      64|       99|           0|\n",
      "| 28|      91|       56|           0|\n",
      "| 29|     130|       49|           0|\n",
      "| 20|     149|       42|           0|\n",
      "| 20|      97|       76|           0|\n",
      "| 27|     100|       40|           0|\n",
      "| 30|     174|       71|           1|\n",
      "| 22|      84|       94|           0|\n",
      "| 25|     157|       85|           1|\n",
      "| 19|     142|       56|           0|\n",
      "| 29|      60|       74|           0|\n",
      "| 25|     145|      105|           1|\n",
      "| 20|     177|      106|           1|\n",
      "| 20|     176|       48|           1|\n",
      "| 19|     149|       84|           1|\n",
      "| 19|     100|       90|           0|\n",
      "| 21|      64|      104|           0|\n",
      "| 25|     153|       48|           1|\n",
      "| 25|     157|       46|           1|\n",
      "+---+--------+---------+------------+\n",
      "only showing top 20 rows\n",
      "\n"
     ]
    }
   ],
   "source": [
    "df.show()"
   ]
  },
  {
   "cell_type": "code",
   "execution_count": 7,
   "metadata": {},
   "outputs": [
    {
     "name": "stdout",
     "output_type": "stream",
     "text": [
      "root\n",
      " |-- bmi: integer (nullable = true)\n",
      " |-- systolic: integer (nullable = true)\n",
      " |-- diastolic: integer (nullable = true)\n",
      " |-- hypertensive: integer (nullable = true)\n",
      "\n"
     ]
    }
   ],
   "source": [
    "df.printSchema()"
   ]
  },
  {
   "cell_type": "code",
   "execution_count": 8,
   "metadata": {
    "collapsed": true
   },
   "outputs": [],
   "source": [
    "(trainingData, testData) = df.randomSplit([0.7, 0.3])"
   ]
  },
  {
   "cell_type": "code",
   "execution_count": 9,
   "metadata": {
    "collapsed": true
   },
   "outputs": [],
   "source": [
    "from pyspark.ml.feature import VectorAssembler"
   ]
  },
  {
   "cell_type": "code",
   "execution_count": 10,
   "metadata": {},
   "outputs": [
    {
     "name": "stdout",
     "output_type": "stream",
     "text": [
      "+-----------+------------+\n",
      "|   features|hypertensive|\n",
      "+-----------+------------+\n",
      "|[60.0,49.0]|           0|\n",
      "|[60.0,57.0]|           0|\n",
      "|[60.0,67.0]|           0|\n",
      "|[60.0,75.0]|           0|\n",
      "|[60.0,76.0]|           0|\n",
      "|[60.0,77.0]|           0|\n",
      "|[61.0,50.0]|           0|\n",
      "|[61.0,89.0]|           0|\n",
      "|[61.0,90.0]|           0|\n",
      "|[61.0,99.0]|           0|\n",
      "+-----------+------------+\n",
      "only showing top 10 rows\n",
      "\n"
     ]
    }
   ],
   "source": [
    "vectorAssembler = VectorAssembler(inputCols = ['systolic', 'diastolic'], outputCol = 'features')\n",
    "va_training = vectorAssembler.transform(trainingData)\n",
    "va_training = va_training.select(['features', 'hypertensive'])\n",
    "va_training.show(10)"
   ]
  },
  {
   "cell_type": "code",
   "execution_count": 11,
   "metadata": {
    "collapsed": true
   },
   "outputs": [],
   "source": [
    "from pyspark.ml.regression import DecisionTreeRegressor"
   ]
  },
  {
   "cell_type": "code",
   "execution_count": 12,
   "metadata": {
    "collapsed": true
   },
   "outputs": [],
   "source": [
    "dt = DecisionTreeRegressor(featuresCol ='features', labelCol = 'hypertensive')"
   ]
  },
  {
   "cell_type": "code",
   "execution_count": 13,
   "metadata": {
    "collapsed": true
   },
   "outputs": [],
   "source": [
    "dt_model = dt.fit(va_training)"
   ]
  },
  {
   "cell_type": "code",
   "execution_count": 14,
   "metadata": {},
   "outputs": [
    {
     "name": "stdout",
     "output_type": "stream",
     "text": [
      "+------------+------------+\n",
      "|    features|hypertensive|\n",
      "+------------+------------+\n",
      "| [60.0,62.0]|           0|\n",
      "| [60.0,73.0]|           0|\n",
      "| [61.0,63.0]|           0|\n",
      "| [63.0,50.0]|           0|\n",
      "|[63.0,107.0]|           0|\n",
      "|[63.0,110.0]|           0|\n",
      "| [64.0,45.0]|           0|\n",
      "| [65.0,85.0]|           0|\n",
      "|[65.0,105.0]|           0|\n",
      "| [66.0,59.0]|           0|\n",
      "+------------+------------+\n",
      "only showing top 10 rows\n",
      "\n"
     ]
    }
   ],
   "source": [
    "va_testing = vectorAssembler.transform(testData)\n",
    "va_testing = va_testing.select(['features', 'hypertensive'])\n",
    "va_testing.show(10)"
   ]
  },
  {
   "cell_type": "code",
   "execution_count": 15,
   "metadata": {
    "collapsed": true
   },
   "outputs": [],
   "source": [
    "dt_predictions = dt_model.transform(va_testing)"
   ]
  },
  {
   "cell_type": "code",
   "execution_count": 16,
   "metadata": {},
   "outputs": [
    {
     "name": "stdout",
     "output_type": "stream",
     "text": [
      "+-------------+------------+--------------------+\n",
      "|     features|hypertensive|          prediction|\n",
      "+-------------+------------+--------------------+\n",
      "|  [60.0,62.0]|           0|                 0.0|\n",
      "|  [60.0,73.0]|           0|                 0.0|\n",
      "|  [61.0,63.0]|           0|                 0.0|\n",
      "|  [63.0,50.0]|           0|                 0.0|\n",
      "| [63.0,107.0]|           0|                 0.0|\n",
      "| [63.0,110.0]|           0|                 0.0|\n",
      "|  [64.0,45.0]|           0|                 0.0|\n",
      "|  [65.0,85.0]|           0|0.023529411764705882|\n",
      "| [65.0,105.0]|           0|                 0.0|\n",
      "|  [66.0,59.0]|           0|                 0.0|\n",
      "|  [66.0,73.0]|           0|                 0.0|\n",
      "|  [67.0,61.0]|           0|                 0.0|\n",
      "|  [68.0,79.0]|           0|                 0.0|\n",
      "|  [68.0,83.0]|           0|                 0.0|\n",
      "|  [69.0,73.0]|           0|                 0.0|\n",
      "|  [70.0,68.0]|           0|                 0.0|\n",
      "|  [70.0,77.0]|           0|                 0.0|\n",
      "|  [71.0,60.0]|           0|                 0.0|\n",
      "|  [71.0,68.0]|           0|                 0.0|\n",
      "|  [72.0,94.0]|           0|                 0.0|\n",
      "|  [73.0,49.0]|           0|                 0.0|\n",
      "|  [73.0,53.0]|           0|                 0.0|\n",
      "|  [73.0,82.0]|           0|                 0.0|\n",
      "| [73.0,100.0]|           0|                 0.0|\n",
      "|  [74.0,86.0]|           0|0.023529411764705882|\n",
      "|  [75.0,43.0]|           0|                 0.0|\n",
      "|  [75.0,75.0]|           0|                 0.0|\n",
      "|  [76.0,59.0]|           0|                 0.0|\n",
      "|  [76.0,75.0]|           0|                 0.0|\n",
      "|  [76.0,99.0]|           0|                 0.0|\n",
      "|  [77.0,41.0]|           0|                 0.0|\n",
      "|  [77.0,86.0]|           0|0.023529411764705882|\n",
      "|  [77.0,98.0]|           0|                 0.0|\n",
      "| [77.0,110.0]|           0|                 0.0|\n",
      "|  [78.0,59.0]|           0|                 0.0|\n",
      "|  [79.0,54.0]|           0|                 0.0|\n",
      "|  [79.0,76.0]|           0|                 0.0|\n",
      "|  [79.0,81.0]|           0|                 0.0|\n",
      "| [79.0,106.0]|           0|                 0.0|\n",
      "|  [80.0,47.0]|           0|                 0.0|\n",
      "|  [80.0,98.0]|           0|                 0.0|\n",
      "|  [81.0,48.0]|           0|                 0.0|\n",
      "|  [81.0,58.0]|           0|                 0.0|\n",
      "|  [81.0,62.0]|           0|                 0.0|\n",
      "|  [81.0,96.0]|           0|                 0.0|\n",
      "| [82.0,106.0]|           0|                 0.0|\n",
      "|  [83.0,84.0]|           0|                 0.0|\n",
      "|  [83.0,89.0]|           0|                 0.0|\n",
      "|  [84.0,86.0]|           0|0.023529411764705882|\n",
      "|  [84.0,91.0]|           0|                 0.0|\n",
      "|  [85.0,51.0]|           0|                 0.0|\n",
      "|  [85.0,70.0]|           0|                 0.0|\n",
      "|  [85.0,82.0]|           0|                 0.0|\n",
      "| [85.0,100.0]|           0|                 0.0|\n",
      "|  [86.0,47.0]|           0|                 0.0|\n",
      "|  [86.0,63.0]|           0|                 0.0|\n",
      "|  [86.0,76.0]|           0|                 0.0|\n",
      "|  [86.0,89.0]|           0|                 0.0|\n",
      "| [86.0,107.0]|           0|                 0.0|\n",
      "| [88.0,102.0]|           0|                 0.0|\n",
      "|  [89.0,51.0]|           0|                 0.0|\n",
      "|  [89.0,99.0]|           0|                 0.0|\n",
      "|  [90.0,85.0]|           0|0.023529411764705882|\n",
      "|  [90.0,88.0]|           0|                 0.0|\n",
      "|  [90.0,95.0]|           0|                 0.0|\n",
      "|  [91.0,59.0]|           0|                 0.0|\n",
      "|  [91.0,80.0]|           0|                 0.0|\n",
      "|  [91.0,83.0]|           0|                 0.0|\n",
      "|  [93.0,63.0]|           0|                 0.0|\n",
      "|  [93.0,78.0]|           0|                 0.0|\n",
      "|  [93.0,83.0]|           0|                 0.0|\n",
      "|  [93.0,88.0]|           0|                 0.0|\n",
      "| [93.0,109.0]|           1| 0.04878048780487805|\n",
      "| [94.0,103.0]|           0| 0.07317073170731707|\n",
      "|  [95.0,41.0]|           0|                 0.0|\n",
      "|  [96.0,64.0]|           0|                 0.0|\n",
      "| [96.0,108.0]|           1|  0.9333333333333333|\n",
      "|  [97.0,42.0]|           0|                 0.0|\n",
      "|  [97.0,53.0]|           0|                 0.0|\n",
      "|  [97.0,85.0]|           0|0.023529411764705882|\n",
      "|  [98.0,60.0]|           0|                 0.0|\n",
      "|  [98.0,68.0]|           0|                 0.0|\n",
      "|  [98.0,79.0]|           0|                 0.0|\n",
      "|  [98.0,86.0]|           0|0.023529411764705882|\n",
      "|  [99.0,41.0]|           0|                 0.0|\n",
      "|  [99.0,68.0]|           0|                 0.0|\n",
      "|  [99.0,81.0]|           0|                 0.0|\n",
      "| [99.0,105.0]|           1|              0.8375|\n",
      "| [100.0,49.0]|           0|                 0.0|\n",
      "| [100.0,87.0]|           0|                 0.0|\n",
      "| [101.0,43.0]|           0|                 0.0|\n",
      "| [101.0,71.0]|           0|                 0.0|\n",
      "| [102.0,49.0]|           0|                 0.0|\n",
      "| [102.0,52.0]|           0|                 0.0|\n",
      "| [102.0,69.0]|           0|                 0.0|\n",
      "| [102.0,76.0]|           0|                 0.0|\n",
      "| [102.0,76.0]|           0|                 0.0|\n",
      "| [104.0,46.0]|           0|                 0.0|\n",
      "|[104.0,107.0]|           1|              0.8375|\n",
      "| [105.0,51.0]|           0|                 0.0|\n",
      "+-------------+------------+--------------------+\n",
      "only showing top 100 rows\n",
      "\n"
     ]
    }
   ],
   "source": [
    "dt_predictions.show(100)"
   ]
  },
  {
   "cell_type": "code",
   "execution_count": 17,
   "metadata": {},
   "outputs": [
    {
     "name": "stdout",
     "output_type": "stream",
     "text": [
      "Root Mean Squared Error (RMSE) on test data = 0.126786\n"
     ]
    }
   ],
   "source": [
    "evaluator = RegressionEvaluator(\n",
    "        labelCol=\"hypertensive\", predictionCol=\"prediction\", metricName=\"rmse\")\n",
    "rmse = evaluator.evaluate(dt_predictions)\n",
    "print(\"Root Mean Squared Error (RMSE) on test data = %g\" % rmse)"
   ]
  },
  {
   "cell_type": "code",
   "execution_count": 18,
   "metadata": {
    "collapsed": true
   },
   "outputs": [],
   "source": [
    "from pyspark.ml.regression import RandomForestRegressor"
   ]
  },
  {
   "cell_type": "code",
   "execution_count": 19,
   "metadata": {
    "collapsed": true
   },
   "outputs": [],
   "source": [
    "rf = RandomForestRegressor(featuresCol ='features', labelCol = 'hypertensive', numTrees=20)"
   ]
  },
  {
   "cell_type": "code",
   "execution_count": 20,
   "metadata": {
    "collapsed": true
   },
   "outputs": [],
   "source": [
    "rf_model = rf.fit(va_training)"
   ]
  },
  {
   "cell_type": "code",
   "execution_count": 21,
   "metadata": {
    "collapsed": true
   },
   "outputs": [],
   "source": [
    "rf_predictions = rf_model.transform(va_testing)"
   ]
  },
  {
   "cell_type": "code",
   "execution_count": 22,
   "metadata": {},
   "outputs": [
    {
     "name": "stdout",
     "output_type": "stream",
     "text": [
      "+-------------+------------+--------------------+\n",
      "|     features|hypertensive|          prediction|\n",
      "+-------------+------------+--------------------+\n",
      "|  [60.0,62.0]|           0|0.001231304957787...|\n",
      "|  [60.0,73.0]|           0|8.032466756494399E-4|\n",
      "|  [61.0,63.0]|           0|0.001231304957787...|\n",
      "|  [63.0,50.0]|           0|0.003027060352153...|\n",
      "| [63.0,107.0]|           0|0.034087049508737324|\n",
      "| [63.0,110.0]|           0|0.022697104520480516|\n",
      "|  [64.0,45.0]|           0|3.466958126197276E-4|\n",
      "|  [65.0,85.0]|           0| 0.02431968696922312|\n",
      "| [65.0,105.0]|           0| 0.04104630232488212|\n",
      "|  [66.0,59.0]|           0|                 0.0|\n",
      "|  [66.0,73.0]|           0|8.032466756494399E-4|\n",
      "|  [67.0,61.0]|           0|                 0.0|\n",
      "|  [68.0,79.0]|           0|8.032466756494399E-4|\n",
      "|  [68.0,83.0]|           0| 0.02478445912517175|\n",
      "|  [69.0,73.0]|           0|8.032466756494399E-4|\n",
      "|  [70.0,68.0]|           0|0.001090037495178...|\n",
      "|  [70.0,77.0]|           0|8.032466756494399E-4|\n",
      "|  [71.0,60.0]|           0|                 0.0|\n",
      "|  [71.0,68.0]|           0|0.001090037495178...|\n",
      "|  [72.0,94.0]|           0|0.014119296445679972|\n",
      "|  [73.0,49.0]|           0|0.003027060352153...|\n",
      "|  [73.0,53.0]|           0|0.001889738962083...|\n",
      "|  [73.0,82.0]|           0| 0.02478445912517175|\n",
      "| [73.0,100.0]|           0|0.011225068829137026|\n",
      "|  [74.0,86.0]|           0| 0.02431968696922312|\n",
      "|  [75.0,43.0]|           0|                 0.0|\n",
      "|  [75.0,75.0]|           0|8.032466756494399E-4|\n",
      "|  [76.0,59.0]|           0|                 0.0|\n",
      "|  [76.0,75.0]|           0|8.032466756494399E-4|\n",
      "|  [76.0,99.0]|           0|0.011225068829137026|\n",
      "|  [77.0,41.0]|           0|                 0.0|\n",
      "|  [77.0,86.0]|           0| 0.02431968696922312|\n",
      "|  [77.0,98.0]|           0|0.011225068829137026|\n",
      "| [77.0,110.0]|           0|0.022697104520480516|\n",
      "|  [78.0,59.0]|           0|                 0.0|\n",
      "|  [79.0,54.0]|           0|0.001889738962083...|\n",
      "|  [79.0,76.0]|           0|8.032466756494399E-4|\n",
      "|  [79.0,81.0]|           0|0.001657947530350...|\n",
      "| [79.0,106.0]|           0|0.034087049508737324|\n",
      "|  [80.0,47.0]|           0|0.001744936714825...|\n",
      "|  [80.0,98.0]|           0|0.011225068829137026|\n",
      "|  [81.0,48.0]|           0|0.001744936714825...|\n",
      "|  [81.0,58.0]|           0|                 0.0|\n",
      "|  [81.0,62.0]|           0|0.001231304957787...|\n",
      "|  [81.0,96.0]|           0| 0.01030965442643308|\n",
      "| [82.0,106.0]|           0|0.034087049508737324|\n",
      "|  [83.0,84.0]|           0| 0.02478445912517175|\n",
      "|  [83.0,89.0]|           0|0.001778066054169...|\n",
      "|  [84.0,86.0]|           0| 0.02431968696922312|\n",
      "|  [84.0,91.0]|           0|0.001936033238573...|\n",
      "|  [85.0,51.0]|           0|0.001889738962083...|\n",
      "|  [85.0,70.0]|           0|9.912166004614697E-4|\n",
      "|  [85.0,82.0]|           0| 0.02478445912517175|\n",
      "| [85.0,100.0]|           0|0.011225068829137026|\n",
      "|  [86.0,47.0]|           0|0.001744936714825...|\n",
      "|  [86.0,63.0]|           0|0.001231304957787...|\n",
      "|  [86.0,76.0]|           0|8.032466756494399E-4|\n",
      "|  [86.0,89.0]|           0|0.001778066054169...|\n",
      "| [86.0,107.0]|           0|0.034087049508737324|\n",
      "| [88.0,102.0]|           0| 0.04369222883544952|\n",
      "|  [89.0,51.0]|           0|0.001889738962083...|\n",
      "|  [89.0,99.0]|           0|0.011225068829137026|\n",
      "|  [90.0,85.0]|           0| 0.02431968696922312|\n",
      "|  [90.0,88.0]|           0| 0.00157130531991268|\n",
      "|  [90.0,95.0]|           0|0.014119296445679972|\n",
      "|  [91.0,59.0]|           0|0.001813951028610...|\n",
      "|  [91.0,80.0]|           0|0.003471898558961009|\n",
      "|  [91.0,83.0]|           0|0.026598410153782465|\n",
      "|  [93.0,63.0]|           0|0.003045255986398...|\n",
      "|  [93.0,78.0]|           0|0.002617197704260...|\n",
      "|  [93.0,83.0]|           0|0.026598410153782465|\n",
      "|  [93.0,88.0]|           0|0.003385256348523...|\n",
      "| [93.0,109.0]|           1| 0.22896771000574573|\n",
      "| [94.0,103.0]|           0| 0.22936438938668613|\n",
      "|  [95.0,41.0]|           0|0.001845529761426...|\n",
      "|  [96.0,64.0]|           0|0.003076834719214...|\n",
      "| [96.0,108.0]|           1|  0.6335692542181444|\n",
      "|  [97.0,42.0]|           0|0.001845529761426...|\n",
      "|  [97.0,53.0]|           0|0.003735268723509812|\n",
      "|  [97.0,85.0]|           0|0.037451957431380974|\n",
      "|  [98.0,60.0]|           0|0.008270970394736841|\n",
      "|  [98.0,68.0]|           0|0.009831227325651951|\n",
      "|  [98.0,79.0]|           0|0.022401579363265815|\n",
      "|  [98.0,86.0]|           0|  0.0459180196568395|\n",
      "|  [99.0,41.0]|           0|0.008270970394736841|\n",
      "|  [99.0,68.0]|           0|0.009831227325651951|\n",
      "|  [99.0,81.0]|           0| 0.02325628021796667|\n",
      "| [99.0,105.0]|           1|  0.6206520400977207|\n",
      "| [100.0,49.0]|           0|0.011298030746890399|\n",
      "| [100.0,87.0]|           0|0.023169638007529053|\n",
      "| [101.0,43.0]|           0|0.008270970394736841|\n",
      "| [101.0,71.0]|           0| 0.00973240643093499|\n",
      "| [102.0,49.0]|           0|0.024955635818772894|\n",
      "| [102.0,52.0]|           0|0.023818314428702532|\n",
      "| [102.0,69.0]|           0|0.023390011502817488|\n",
      "| [102.0,76.0]|           0| 0.04233349697706649|\n",
      "| [102.0,76.0]|           0| 0.04233349697706649|\n",
      "| [104.0,46.0]|           0| 0.02227527127923907|\n",
      "|[104.0,107.0]|           1|  0.7365715879479703|\n",
      "| [105.0,51.0]|           0|0.023818314428702532|\n",
      "+-------------+------------+--------------------+\n",
      "only showing top 100 rows\n",
      "\n"
     ]
    }
   ],
   "source": [
    "rf_predictions.show(100)"
   ]
  },
  {
   "cell_type": "code",
   "execution_count": 23,
   "metadata": {},
   "outputs": [
    {
     "name": "stdout",
     "output_type": "stream",
     "text": [
      "Root Mean Squared Error (RMSE) on test data = 0.120029\n"
     ]
    }
   ],
   "source": [
    "rmse = evaluator.evaluate(rf_predictions)\n",
    "print(\"Root Mean Squared Error (RMSE) on test data = %g\" % rmse)"
   ]
  },
  {
   "cell_type": "code",
   "execution_count": 24,
   "metadata": {
    "collapsed": true
   },
   "outputs": [],
   "source": [
    "# find the cutoff values\n",
    "#\n",
    "# this part was a little surprising to me. Scikit-learn has a method for this: clf.tree_.threshold[0]\n",
    "# \n",
    "# unfortunately, looks like there isn't a method for this in SparkML? \n",
    "# you can see the tree by printing .toDebugString on your model and \n",
    "#\n",
    "# not sure if this is really my only or best option, I've looked around \n",
    "# but haven't found a tidy api call for this..."
   ]
  },
  {
   "cell_type": "code",
   "execution_count": 25,
   "metadata": {},
   "outputs": [
    {
     "data": {
      "text/plain": [
       "'RandomForestRegressionModel (uid=RandomForestRegressor_a052bd3c025d) with 20 trees\\n  Tree 0 (weight 1.0):\\n    If (feature 0 <= 120.5)\\n     If (feature 0 <= 101.5)\\n      If (feature 1 <= 101.5)\\n       Predict: 0.0\\n      Else (feature 1 > 101.5)\\n       If (feature 1 <= 103.5)\\n        If (feature 0 <= 97.5)\\n         Predict: 0.0\\n        Else (feature 0 > 97.5)\\n         Predict: 0.875\\n       Else (feature 1 > 103.5)\\n        If (feature 0 <= 93.5)\\n         Predict: 0.005291005291005291\\n        Else (feature 0 > 93.5)\\n         Predict: 0.6904761904761905\\n     Else (feature 0 > 101.5)\\n      If (feature 1 <= 88.5)\\n       If (feature 0 <= 112.5)\\n        Predict: 0.0\\n       Else (feature 0 > 112.5)\\n        If (feature 0 <= 116.5)\\n         Predict: 0.06432748538011696\\n        Else (feature 0 > 116.5)\\n         Predict: 0.055900621118012424\\n      Else (feature 1 > 88.5)\\n       If (feature 0 <= 108.5)\\n        If (feature 0 <= 105.5)\\n         Predict: 0.6086956521739131\\n        Else (feature 0 > 105.5)\\n         Predict: 0.7636363636363637\\n       Else (feature 0 > 108.5)\\n        Predict: 1.0\\n    Else (feature 0 > 120.5)\\n     If (feature 0 <= 142.5)\\n      If (feature 1 <= 66.5)\\n       If (feature 1 <= 59.5)\\n        Predict: 0.0\\n       Else (feature 1 > 59.5)\\n        If (feature 1 <= 61.5)\\n         Predict: 0.2413793103448276\\n        Else (feature 1 > 61.5)\\n         Predict: 0.2268041237113402\\n      Else (feature 1 > 66.5)\\n       If (feature 0 <= 123.5)\\n        Predict: 0.7070707070707071\\n       Else (feature 0 > 123.5)\\n        If (feature 1 <= 73.5)\\n         Predict: 0.7738095238095238\\n        Else (feature 1 > 73.5)\\n         Predict: 0.9912587412587412\\n     Else (feature 0 > 142.5)\\n      If (feature 0 <= 153.5)\\n       If (feature 1 <= 52.5)\\n        If (feature 1 <= 48.5)\\n         Predict: 0.0\\n        Else (feature 1 > 48.5)\\n         Predict: 0.41379310344827586\\n       Else (feature 1 > 52.5)\\n        If (feature 0 <= 146.5)\\n         Predict: 0.9803921568627451\\n        Else (feature 0 > 146.5)\\n         Predict: 0.997289972899729\\n      Else (feature 0 > 153.5)\\n       If (feature 1 <= 46.5)\\n        If (feature 0 <= 157.5)\\n         Predict: 0.25\\n        Else (feature 0 > 157.5)\\n         Predict: 1.0\\n       Else (feature 1 > 46.5)\\n        Predict: 1.0\\n  Tree 1 (weight 1.0):\\n    If (feature 1 <= 66.5)\\n     If (feature 1 <= 57.5)\\n      If (feature 1 <= 43.5)\\n       If (feature 0 <= 157.5)\\n        Predict: 0.0\\n       Else (feature 0 > 157.5)\\n        If (feature 0 <= 160.5)\\n         Predict: 0.8571428571428571\\n        Else (feature 0 > 160.5)\\n         Predict: 1.0\\n      Else (feature 1 > 43.5)\\n       If (feature 1 <= 48.5)\\n        If (feature 0 <= 153.5)\\n         Predict: 0.0029498525073746312\\n        Else (feature 0 > 153.5)\\n         Predict: 0.9477611940298507\\n       Else (feature 1 > 48.5)\\n        If (feature 0 <= 150.5)\\n         Predict: 0.02252252252252252\\n        Else (feature 0 > 150.5)\\n         Predict: 1.0\\n     Else (feature 1 > 57.5)\\n      If (feature 0 <= 138.5)\\n       If (feature 1 <= 61.5)\\n        Predict: 0.0\\n       Else (feature 1 > 61.5)\\n        If (feature 1 <= 64.5)\\n         Predict: 0.0111731843575419\\n        Else (feature 1 > 64.5)\\n         Predict: 0.02158273381294964\\n      Else (feature 0 > 138.5)\\n       If (feature 1 <= 61.5)\\n        If (feature 1 <= 59.5)\\n         Predict: 0.9578947368421052\\n        Else (feature 1 > 59.5)\\n         Predict: 0.9538461538461539\\n       Else (feature 1 > 61.5)\\n        Predict: 1.0\\n    Else (feature 1 > 66.5)\\n     If (feature 0 <= 108.5)\\n      If (feature 1 <= 95.5)\\n       If (feature 0 <= 105.5)\\n        Predict: 0.0\\n       Else (feature 0 > 105.5)\\n        Predict: 0.11363636363636363\\n      Else (feature 1 > 95.5)\\n       If (feature 0 <= 97.5)\\n        If (feature 0 <= 93.5)\\n         Predict: 0.004395604395604396\\n        Else (feature 0 > 93.5)\\n         Predict: 0.2857142857142857\\n       Else (feature 0 > 97.5)\\n        If (feature 0 <= 105.5)\\n         Predict: 0.7244897959183674\\n        Else (feature 0 > 105.5)\\n         Predict: 1.0\\n     Else (feature 0 > 108.5)\\n      If (feature 1 <= 81.5)\\n       If (feature 0 <= 127.5)\\n        If (feature 0 <= 120.5)\\n         Predict: 0.0\\n        Else (feature 0 > 120.5)\\n         Predict: 0.38636363636363635\\n       Else (feature 0 > 127.5)\\n        If (feature 0 <= 131.5)\\n         Predict: 0.5952380952380952\\n        Else (feature 0 > 131.5)\\n         Predict: 1.0\\n      Else (feature 1 > 81.5)\\n       If (feature 1 <= 88.5)\\n        If (feature 1 <= 84.5)\\n         Predict: 0.9333333333333333\\n        Else (feature 1 > 84.5)\\n         Predict: 0.9118942731277533\\n       Else (feature 1 > 88.5)\\n        If (feature 0 <= 112.5)\\n         Predict: 0.9866666666666667\\n        Else (feature 0 > 112.5)\\n         Predict: 1.0\\n  Tree 2 (weight 1.0):\\n    If (feature 0 <= 123.5)\\n     If (feature 0 <= 105.5)\\n      If (feature 1 <= 99.5)\\n       If (feature 0 <= 101.5)\\n        Predict: 0.0\\n       Else (feature 0 > 101.5)\\n        If (feature 1 <= 97.5)\\n         Predict: 0.031055900621118012\\n        Else (feature 1 > 97.5)\\n         Predict: 1.0\\n      Else (feature 1 > 99.5)\\n       If (feature 1 <= 105.5)\\n        If (feature 0 <= 97.5)\\n         Predict: 0.0\\n        Else (feature 0 > 97.5)\\n         Predict: 0.7241379310344828\\n       Else (feature 1 > 105.5)\\n        If (feature 0 <= 93.5)\\n         Predict: 0.01910828025477707\\n        Else (feature 0 > 93.5)\\n         Predict: 1.0\\n     Else (feature 0 > 105.5)\\n      If (feature 1 <= 86.5)\\n       If (feature 0 <= 120.5)\\n        If (feature 0 <= 112.5)\\n         Predict: 0.0\\n        Else (feature 0 > 112.5)\\n         Predict: 0.023346303501945526\\n       Else (feature 0 > 120.5)\\n        If (feature 1 <= 79.5)\\n         Predict: 0.01\\n        Else (feature 1 > 79.5)\\n         Predict: 1.0\\n      Else (feature 1 > 86.5)\\n       If (feature 1 <= 92.5)\\n        If (feature 0 <= 112.5)\\n         Predict: 0.2682926829268293\\n        Else (feature 0 > 112.5)\\n         Predict: 0.9830508474576272\\n       Else (feature 1 > 92.5)\\n        If (feature 0 <= 108.5)\\n         Predict: 0.9361702127659575\\n        Else (feature 0 > 108.5)\\n         Predict: 1.0\\n    Else (feature 0 > 123.5)\\n     If (feature 1 <= 64.5)\\n      If (feature 1 <= 57.5)\\n       If (feature 0 <= 153.5)\\n        If (feature 0 <= 146.5)\\n         Predict: 0.0\\n        Else (feature 0 > 146.5)\\n         Predict: 0.3010752688172043\\n       Else (feature 0 > 153.5)\\n        If (feature 1 <= 41.5)\\n         Predict: 0.7678571428571429\\n        Else (feature 1 > 41.5)\\n         Predict: 0.9766763848396501\\n      Else (feature 1 > 57.5)\\n       If (feature 0 <= 138.5)\\n        If (feature 0 <= 135.5)\\n         Predict: 0.0\\n        Else (feature 0 > 135.5)\\n         Predict: 0.034482758620689655\\n       Else (feature 0 > 138.5)\\n        If (feature 0 <= 142.5)\\n         Predict: 0.7333333333333333\\n        Else (feature 0 > 142.5)\\n         Predict: 1.0\\n     Else (feature 1 > 64.5)\\n      If (feature 1 <= 71.5)\\n       If (feature 1 <= 66.5)\\n        If (feature 0 <= 135.5)\\n         Predict: 0.0\\n        Else (feature 0 > 135.5)\\n         Predict: 1.0\\n       Else (feature 1 > 66.5)\\n        If (feature 0 <= 131.5)\\n         Predict: 0.10714285714285714\\n        Else (feature 0 > 131.5)\\n         Predict: 1.0\\n      Else (feature 1 > 71.5)\\n       If (feature 1 <= 75.5)\\n        If (feature 0 <= 127.5)\\n         Predict: 0.5\\n        Else (feature 0 > 127.5)\\n         Predict: 0.9893048128342246\\n       Else (feature 1 > 75.5)\\n        If (feature 0 <= 127.5)\\n         Predict: 0.9891304347826086\\n        Else (feature 0 > 127.5)\\n         Predict: 1.0\\n  Tree 3 (weight 1.0):\\n    If (feature 1 <= 73.5)\\n     If (feature 0 <= 138.5)\\n      If (feature 1 <= 64.5)\\n       If (feature 0 <= 135.5)\\n        Predict: 0.0\\n       Else (feature 0 > 135.5)\\n        If (feature 1 <= 61.5)\\n         Predict: 0.0\\n        Else (feature 1 > 61.5)\\n         Predict: 0.125\\n      Else (feature 1 > 64.5)\\n       If (feature 0 <= 131.5)\\n        If (feature 0 <= 127.5)\\n         Predict: 0.0\\n        Else (feature 0 > 127.5)\\n         Predict: 0.24242424242424243\\n       Else (feature 0 > 131.5)\\n        If (feature 1 <= 66.5)\\n         Predict: 0.4666666666666667\\n        Else (feature 1 > 66.5)\\n         Predict: 0.9743589743589743\\n     Else (feature 0 > 138.5)\\n      If (feature 0 <= 157.5)\\n       If (feature 1 <= 55.5)\\n        If (feature 1 <= 48.5)\\n         Predict: 0.08461538461538462\\n        Else (feature 1 > 48.5)\\n         Predict: 0.45098039215686275\\n       Else (feature 1 > 55.5)\\n        If (feature 1 <= 57.5)\\n         Predict: 0.65\\n        Else (feature 1 > 57.5)\\n         Predict: 0.9929078014184397\\n      Else (feature 0 > 157.5)\\n       If (feature 1 <= 41.5)\\n        Predict: 0.9782608695652174\\n       Else (feature 1 > 41.5)\\n        Predict: 1.0\\n    Else (feature 1 > 73.5)\\n     If (feature 0 <= 108.5)\\n      If (feature 0 <= 93.5)\\n       If (feature 1 <= 108.5)\\n        Predict: 0.0\\n       Else (feature 1 > 108.5)\\n        If (feature 0 <= 90.5)\\n         Predict: 0.0\\n        Else (feature 0 > 90.5)\\n         Predict: 1.0\\n      Else (feature 0 > 93.5)\\n       If (feature 0 <= 101.5)\\n        If (feature 0 <= 97.5)\\n         Predict: 0.1984732824427481\\n        Else (feature 0 > 97.5)\\n         Predict: 0.2571428571428571\\n       Else (feature 0 > 101.5)\\n        If (feature 0 <= 105.5)\\n         Predict: 0.3333333333333333\\n        Else (feature 0 > 105.5)\\n         Predict: 0.411214953271028\\n     Else (feature 0 > 108.5)\\n      If (feature 0 <= 120.5)\\n       If (feature 0 <= 116.5)\\n        If (feature 0 <= 112.5)\\n         Predict: 0.660377358490566\\n        Else (feature 0 > 112.5)\\n         Predict: 0.6946564885496184\\n       Else (feature 0 > 116.5)\\n        If (feature 1 <= 84.5)\\n         Predict: 0.025\\n        Else (feature 1 > 84.5)\\n         Predict: 1.0\\n      Else (feature 0 > 120.5)\\n       If (feature 0 <= 123.5)\\n        If (feature 1 <= 77.5)\\n         Predict: 0.0\\n        Else (feature 1 > 77.5)\\n         Predict: 1.0\\n       Else (feature 0 > 123.5)\\n        If (feature 0 <= 127.5)\\n         Predict: 0.9736842105263158\\n        Else (feature 0 > 127.5)\\n         Predict: 1.0\\n  Tree 4 (weight 1.0):\\n    If (feature 1 <= 68.5)\\n     If (feature 1 <= 57.5)\\n      If (feature 0 <= 150.5)\\n       If (feature 0 <= 146.5)\\n        If (feature 0 <= 142.5)\\n         Predict: 0.0\\n        Else (feature 0 > 142.5)\\n         Predict: 0.04081632653061224\\n       Else (feature 0 > 146.5)\\n        Predict: 0.13559322033898305\\n      Else (feature 0 > 150.5)\\n       If (feature 1 <= 48.5)\\n        If (feature 0 <= 153.5)\\n         Predict: 0.06666666666666667\\n        Else (feature 0 > 153.5)\\n         Predict: 0.9435897435897436\\n       Else (feature 1 > 48.5)\\n        Predict: 1.0\\n     Else (feature 1 > 57.5)\\n      If (feature 0 <= 138.5)\\n       If (feature 0 <= 135.5)\\n        If (feature 0 <= 131.5)\\n         Predict: 0.0\\n        Else (feature 0 > 131.5)\\n         Predict: 0.125\\n       Else (feature 0 > 135.5)\\n        If (feature 1 <= 64.5)\\n         Predict: 0.08\\n        Else (feature 1 > 64.5)\\n         Predict: 1.0\\n      Else (feature 0 > 138.5)\\n       If (feature 1 <= 61.5)\\n        If (feature 1 <= 59.5)\\n         Predict: 0.9893617021276596\\n        Else (feature 1 > 59.5)\\n         Predict: 0.9833333333333333\\n       Else (feature 1 > 61.5)\\n        Predict: 1.0\\n    Else (feature 1 > 68.5)\\n     If (feature 1 <= 95.5)\\n      If (feature 1 <= 86.5)\\n       If (feature 1 <= 81.5)\\n        If (feature 0 <= 123.5)\\n         Predict: 0.010954616588419406\\n        Else (feature 0 > 123.5)\\n         Predict: 0.9624624624624625\\n       Else (feature 1 > 81.5)\\n        If (feature 1 <= 84.5)\\n         Predict: 0.4734848484848485\\n        Else (feature 1 > 84.5)\\n         Predict: 0.48128342245989303\\n      Else (feature 1 > 86.5)\\n       If (feature 1 <= 90.5)\\n        If (feature 0 <= 112.5)\\n         Predict: 0.02631578947368421\\n        Else (feature 0 > 112.5)\\n         Predict: 0.9905660377358491\\n       Else (feature 1 > 90.5)\\n        If (feature 0 <= 108.5)\\n         Predict: 0.03225806451612903\\n        Else (feature 0 > 108.5)\\n         Predict: 1.0\\n     Else (feature 1 > 95.5)\\n      If (feature 0 <= 101.5)\\n       If (feature 0 <= 93.5)\\n        If (feature 0 <= 90.5)\\n         Predict: 0.0\\n        Else (feature 0 > 90.5)\\n         Predict: 0.02564102564102564\\n       Else (feature 0 > 93.5)\\n        If (feature 0 <= 97.5)\\n         Predict: 0.325\\n        Else (feature 0 > 97.5)\\n         Predict: 0.5111111111111111\\n      Else (feature 0 > 101.5)\\n       If (feature 1 <= 97.5)\\n        If (feature 0 <= 105.5)\\n         Predict: 0.42857142857142855\\n        Else (feature 0 > 105.5)\\n         Predict: 1.0\\n       Else (feature 1 > 97.5)\\n        Predict: 1.0\\n  Tree 5 (weight 1.0):\\n    If (feature 0 <= 120.5)\\n     If (feature 0 <= 108.5)\\n      If (feature 0 <= 97.5)\\n       If (feature 1 <= 103.5)\\n        Predict: 0.0\\n       Else (feature 1 > 103.5)\\n        If (feature 0 <= 93.5)\\n         Predict: 0.011049723756906077\\n        Else (feature 0 > 93.5)\\n         Predict: 0.7916666666666666\\n      Else (feature 0 > 97.5)\\n       If (feature 1 <= 97.5)\\n        If (feature 1 <= 92.5)\\n         Predict: 0.0\\n        Else (feature 1 > 92.5)\\n         Predict: 0.20833333333333334\\n       Else (feature 1 > 97.5)\\n        If (feature 0 <= 101.5)\\n         Predict: 0.7272727272727273\\n        Else (feature 0 > 101.5)\\n         Predict: 1.0\\n     Else (feature 0 > 108.5)\\n      If (feature 0 <= 116.5)\\n       If (feature 1 <= 88.5)\\n        If (feature 0 <= 112.5)\\n         Predict: 0.0\\n        Else (feature 0 > 112.5)\\n         Predict: 0.07042253521126761\\n       Else (feature 1 > 88.5)\\n        If (feature 1 <= 90.5)\\n         Predict: 0.9375\\n        Else (feature 1 > 90.5)\\n         Predict: 1.0\\n      Else (feature 0 > 116.5)\\n       Predict: 0.4017857142857143\\n    Else (feature 0 > 120.5)\\n     If (feature 1 <= 64.5)\\n      If (feature 0 <= 146.5)\\n       If (feature 0 <= 138.5)\\n        If (feature 0 <= 135.5)\\n         Predict: 0.0\\n        Else (feature 0 > 135.5)\\n         Predict: 0.0410958904109589\\n       Else (feature 0 > 138.5)\\n        If (feature 1 <= 57.5)\\n         Predict: 0.020618556701030927\\n        Else (feature 1 > 57.5)\\n         Predict: 0.8947368421052632\\n      Else (feature 0 > 146.5)\\n       If (feature 0 <= 157.5)\\n        If (feature 0 <= 150.5)\\n         Predict: 0.5227272727272727\\n        Else (feature 0 > 150.5)\\n         Predict: 0.7197452229299363\\n       Else (feature 0 > 157.5)\\n        If (feature 1 <= 41.5)\\n         Predict: 0.9696969696969697\\n        Else (feature 1 > 41.5)\\n         Predict: 1.0\\n     Else (feature 1 > 64.5)\\n      If (feature 0 <= 131.5)\\n       If (feature 1 <= 73.5)\\n        If (feature 1 <= 71.5)\\n         Predict: 0.034482758620689655\\n        Else (feature 1 > 71.5)\\n         Predict: 0.36363636363636365\\n       Else (feature 1 > 73.5)\\n        If (feature 0 <= 123.5)\\n         Predict: 0.9361702127659575\\n        Else (feature 0 > 123.5)\\n         Predict: 0.9886792452830189\\n      Else (feature 0 > 131.5)\\n       If (feature 1 <= 66.5)\\n        If (feature 0 <= 135.5)\\n         Predict: 0.0\\n        Else (feature 0 > 135.5)\\n         Predict: 1.0\\n       Else (feature 1 > 66.5)\\n        Predict: 1.0\\n  Tree 6 (weight 1.0):\\n    If (feature 0 <= 127.5)\\n     If (feature 1 <= 88.5)\\n      If (feature 0 <= 116.5)\\n       If (feature 0 <= 112.5)\\n        Predict: 0.0\\n       Else (feature 0 > 112.5)\\n        Predict: 0.04411764705882353\\n      Else (feature 0 > 116.5)\\n       If (feature 0 <= 120.5)\\n        Predict: 0.08024691358024691\\n       Else (feature 0 > 120.5)\\n        If (feature 1 <= 77.5)\\n         Predict: 0.016216216216216217\\n        Else (feature 1 > 77.5)\\n         Predict: 0.9\\n     Else (feature 1 > 88.5)\\n      If (feature 0 <= 101.5)\\n       If (feature 1 <= 105.5)\\n        If (feature 1 <= 101.5)\\n         Predict: 0.0021231422505307855\\n        Else (feature 1 > 101.5)\\n         Predict: 0.09803921568627451\\n       Else (feature 1 > 105.5)\\n        If (feature 0 <= 93.5)\\n         Predict: 0.0234375\\n        Else (feature 0 > 93.5)\\n         Predict: 0.9142857142857143\\n      Else (feature 0 > 101.5)\\n       If (feature 0 <= 108.5)\\n        If (feature 0 <= 105.5)\\n         Predict: 0.7083333333333334\\n        Else (feature 0 > 105.5)\\n         Predict: 0.76\\n       Else (feature 0 > 108.5)\\n        If (feature 1 <= 90.5)\\n         Predict: 0.96875\\n        Else (feature 1 > 90.5)\\n         Predict: 1.0\\n    Else (feature 0 > 127.5)\\n     If (feature 0 <= 146.5)\\n      If (feature 0 <= 131.5)\\n       If (feature 1 <= 73.5)\\n        If (feature 1 <= 68.5)\\n         Predict: 0.0\\n        Else (feature 1 > 68.5)\\n         Predict: 0.3125\\n       Else (feature 1 > 73.5)\\n        Predict: 1.0\\n      Else (feature 0 > 131.5)\\n       If (feature 0 <= 138.5)\\n        If (feature 0 <= 135.5)\\n         Predict: 0.6523605150214592\\n        Else (feature 0 > 135.5)\\n         Predict: 0.6684782608695652\\n       Else (feature 0 > 138.5)\\n        If (feature 0 <= 142.5)\\n         Predict: 0.708502024291498\\n        Else (feature 0 > 142.5)\\n         Predict: 0.7360406091370558\\n     Else (feature 0 > 146.5)\\n      If (feature 0 <= 157.5)\\n       If (feature 1 <= 50.5)\\n        If (feature 1 <= 46.5)\\n         Predict: 0.0821917808219178\\n        Else (feature 1 > 46.5)\\n         Predict: 0.5\\n       Else (feature 1 > 50.5)\\n        If (feature 0 <= 150.5)\\n         Predict: 0.9827586206896551\\n        Else (feature 0 > 150.5)\\n         Predict: 1.0\\n      Else (feature 0 > 157.5)\\n       If (feature 0 <= 160.5)\\n        If (feature 1 <= 41.5)\\n         Predict: 0.6\\n        Else (feature 1 > 41.5)\\n         Predict: 1.0\\n       Else (feature 0 > 160.5)\\n        Predict: 1.0\\n  Tree 7 (weight 1.0):\\n    If (feature 1 <= 68.5)\\n     If (feature 0 <= 146.5)\\n      If (feature 0 <= 138.5)\\n       If (feature 1 <= 64.5)\\n        If (feature 0 <= 135.5)\\n         Predict: 0.0\\n        Else (feature 0 > 135.5)\\n         Predict: 0.02702702702702703\\n       Else (feature 1 > 64.5)\\n        If (feature 0 <= 135.5)\\n         Predict: 0.01293103448275862\\n        Else (feature 0 > 135.5)\\n         Predict: 1.0\\n      Else (feature 0 > 138.5)\\n       If (feature 1 <= 57.5)\\n        If (feature 1 <= 55.5)\\n         Predict: 0.0\\n        Else (feature 1 > 55.5)\\n         Predict: 0.3157894736842105\\n       Else (feature 1 > 57.5)\\n        If (feature 0 <= 142.5)\\n         Predict: 0.7647058823529411\\n        Else (feature 0 > 142.5)\\n         Predict: 1.0\\n     Else (feature 0 > 146.5)\\n      If (feature 1 <= 48.5)\\n       If (feature 1 <= 43.5)\\n        If (feature 0 <= 157.5)\\n         Predict: 0.0\\n        Else (feature 0 > 157.5)\\n         Predict: 1.0\\n       Else (feature 1 > 43.5)\\n        If (feature 0 <= 153.5)\\n         Predict: 0.0625\\n        Else (feature 0 > 153.5)\\n         Predict: 0.9565217391304348\\n      Else (feature 1 > 48.5)\\n       If (feature 1 <= 50.5)\\n        If (feature 0 <= 150.5)\\n         Predict: 0.0\\n        Else (feature 0 > 150.5)\\n         Predict: 1.0\\n       Else (feature 1 > 50.5)\\n        If (feature 1 <= 55.5)\\n         Predict: 0.9703703703703703\\n        Else (feature 1 > 55.5)\\n         Predict: 1.0\\n    Else (feature 1 > 68.5)\\n     If (feature 0 <= 112.5)\\n      If (feature 1 <= 92.5)\\n       If (feature 0 <= 108.5)\\n        Predict: 0.0\\n       Else (feature 0 > 108.5)\\n        If (feature 1 <= 88.5)\\n         Predict: 0.0\\n        Else (feature 1 > 88.5)\\n         Predict: 0.8888888888888888\\n      Else (feature 1 > 92.5)\\n       If (feature 1 <= 101.5)\\n        If (feature 1 <= 97.5)\\n         Predict: 0.1827956989247312\\n        Else (feature 1 > 97.5)\\n         Predict: 0.16176470588235295\\n       Else (feature 1 > 101.5)\\n        If (feature 0 <= 93.5)\\n         Predict: 0.008403361344537815\\n        Else (feature 0 > 93.5)\\n         Predict: 0.88\\n     Else (feature 0 > 112.5)\\n      If (feature 1 <= 81.5)\\n       If (feature 1 <= 75.5)\\n        If (feature 1 <= 73.5)\\n         Predict: 0.8339622641509434\\n        Else (feature 1 > 73.5)\\n         Predict: 0.7484276729559748\\n       Else (feature 1 > 75.5)\\n        If (feature 1 <= 77.5)\\n         Predict: 0.9222222222222223\\n        Else (feature 1 > 77.5)\\n         Predict: 0.8770491803278688\\n      Else (feature 1 > 81.5)\\n       If (feature 1 <= 88.5)\\n        If (feature 1 <= 86.5)\\n         Predict: 0.9440559440559441\\n        Else (feature 1 > 86.5)\\n         Predict: 0.9736842105263158\\n       Else (feature 1 > 88.5)\\n        Predict: 1.0\\n  Tree 8 (weight 1.0):\\n    If (feature 0 <= 123.5)\\n     If (feature 0 <= 105.5)\\n      If (feature 1 <= 101.5)\\n       If (feature 0 <= 101.5)\\n        Predict: 0.0\\n       Else (feature 0 > 101.5)\\n        If (feature 1 <= 95.5)\\n         Predict: 0.0\\n        Else (feature 1 > 95.5)\\n         Predict: 0.7916666666666666\\n      Else (feature 1 > 101.5)\\n       If (feature 1 <= 108.5)\\n        If (feature 1 <= 103.5)\\n         Predict: 0.25925925925925924\\n        Else (feature 1 > 103.5)\\n         Predict: 0.19\\n       Else (feature 1 > 108.5)\\n        Predict: 0.2857142857142857\\n     Else (feature 0 > 105.5)\\n      If (feature 1 <= 84.5)\\n       If (feature 1 <= 79.5)\\n        If (feature 1 <= 77.5)\\n         Predict: 0.0\\n        Else (feature 1 > 77.5)\\n         Predict: 0.029411764705882353\\n       Else (feature 1 > 79.5)\\n        If (feature 0 <= 120.5)\\n         Predict: 0.08771929824561403\\n        Else (feature 0 > 120.5)\\n         Predict: 1.0\\n      Else (feature 1 > 84.5)\\n       If (feature 1 <= 92.5)\\n        If (feature 1 <= 88.5)\\n         Predict: 0.5522388059701493\\n        Else (feature 1 > 88.5)\\n         Predict: 0.7777777777777778\\n       Else (feature 1 > 92.5)\\n        If (feature 0 <= 108.5)\\n         Predict: 0.9555555555555556\\n        Else (feature 0 > 108.5)\\n         Predict: 1.0\\n    Else (feature 0 > 123.5)\\n     If (feature 0 <= 146.5)\\n      If (feature 0 <= 127.5)\\n       Predict: 0.4978165938864629\\n      Else (feature 0 > 127.5)\\n       If (feature 0 <= 138.5)\\n        If (feature 0 <= 135.5)\\n         Predict: 0.656964656964657\\n        Else (feature 0 > 135.5)\\n         Predict: 0.6044444444444445\\n       Else (feature 0 > 138.5)\\n        If (feature 1 <= 59.5)\\n         Predict: 0.09701492537313433\\n        Else (feature 1 > 59.5)\\n         Predict: 0.9968454258675079\\n     Else (feature 0 > 146.5)\\n      If (feature 1 <= 50.5)\\n       If (feature 1 <= 46.5)\\n        If (feature 0 <= 157.5)\\n         Predict: 0.05084745762711865\\n        Else (feature 0 > 157.5)\\n         Predict: 0.9919354838709677\\n       Else (feature 1 > 46.5)\\n        If (feature 1 <= 48.5)\\n         Predict: 0.7941176470588235\\n        Else (feature 1 > 48.5)\\n         Predict: 0.8095238095238095\\n      Else (feature 1 > 50.5)\\n       If (feature 1 <= 55.5)\\n        If (feature 1 <= 52.5)\\n         Predict: 0.9821428571428571\\n        Else (feature 1 > 52.5)\\n         Predict: 0.9577464788732394\\n       Else (feature 1 > 55.5)\\n        Predict: 1.0\\n  Tree 9 (weight 1.0):\\n    If (feature 0 <= 120.5)\\n     If (feature 1 <= 92.5)\\n      If (feature 0 <= 112.5)\\n       If (feature 1 <= 90.5)\\n        If (feature 0 <= 108.5)\\n         Predict: 0.0\\n        Else (feature 0 > 108.5)\\n         Predict: 0.013793103448275862\\n       Else (feature 1 > 90.5)\\n        If (feature 0 <= 108.5)\\n         Predict: 0.0\\n        Else (feature 0 > 108.5)\\n         Predict: 1.0\\n      Else (feature 0 > 112.5)\\n       If (feature 1 <= 84.5)\\n        If (feature 0 <= 116.5)\\n         Predict: 0.0\\n        Else (feature 0 > 116.5)\\n         Predict: 0.032\\n       Else (feature 1 > 84.5)\\n        Predict: 1.0\\n     Else (feature 1 > 92.5)\\n      If (feature 0 <= 97.5)\\n       If (feature 0 <= 93.5)\\n        If (feature 0 <= 90.5)\\n         Predict: 0.0\\n        Else (feature 0 > 90.5)\\n         Predict: 0.027777777777777776\\n       Else (feature 0 > 93.5)\\n        If (feature 1 <= 105.5)\\n         Predict: 0.10810810810810811\\n        Else (feature 1 > 105.5)\\n         Predict: 1.0\\n      Else (feature 0 > 97.5)\\n       If (feature 1 <= 101.5)\\n        If (feature 0 <= 101.5)\\n         Predict: 0.0\\n        Else (feature 0 > 101.5)\\n         Predict: 0.9328859060402684\\n       Else (feature 1 > 101.5)\\n        Predict: 1.0\\n    Else (feature 0 > 120.5)\\n     If (feature 1 <= 64.5)\\n      If (feature 1 <= 48.5)\\n       If (feature 0 <= 157.5)\\n        If (feature 1 <= 46.5)\\n         Predict: 0.0\\n        Else (feature 1 > 46.5)\\n         Predict: 0.1875\\n       Else (feature 0 > 157.5)\\n        If (feature 0 <= 160.5)\\n         Predict: 0.9354838709677419\\n        Else (feature 0 > 160.5)\\n         Predict: 1.0\\n      Else (feature 1 > 48.5)\\n       If (feature 0 <= 142.5)\\n        If (feature 1 <= 59.5)\\n         Predict: 0.0\\n        Else (feature 1 > 59.5)\\n         Predict: 0.13592233009708737\\n       Else (feature 0 > 142.5)\\n        If (feature 1 <= 50.5)\\n         Predict: 0.7313432835820896\\n        Else (feature 1 > 50.5)\\n         Predict: 0.9717223650385605\\n     Else (feature 1 > 64.5)\\n      If (feature 1 <= 71.5)\\n       If (feature 1 <= 66.5)\\n        If (feature 0 <= 135.5)\\n         Predict: 0.0\\n        Else (feature 0 > 135.5)\\n         Predict: 1.0\\n       Else (feature 1 > 66.5)\\n        If (feature 1 <= 68.5)\\n         Predict: 0.84\\n        Else (feature 1 > 68.5)\\n         Predict: 0.8427672955974843\\n      Else (feature 1 > 71.5)\\n       If (feature 1 <= 77.5)\\n        If (feature 1 <= 73.5)\\n         Predict: 0.967741935483871\\n        Else (feature 1 > 73.5)\\n         Predict: 0.9333333333333333\\n       Else (feature 1 > 77.5)\\n        If (feature 1 <= 79.5)\\n         Predict: 0.984\\n        Else (feature 1 > 79.5)\\n         Predict: 1.0\\n  Tree 10 (weight 1.0):\\n    If (feature 1 <= 66.5)\\n     If (feature 0 <= 142.5)\\n      If (feature 0 <= 138.5)\\n       If (feature 1 <= 64.5)\\n        If (feature 1 <= 61.5)\\n         Predict: 0.0\\n        Else (feature 1 > 61.5)\\n         Predict: 0.013452914798206279\\n       Else (feature 1 > 64.5)\\n        If (feature 0 <= 135.5)\\n         Predict: 0.0\\n        Else (feature 0 > 135.5)\\n         Predict: 1.0\\n      Else (feature 0 > 138.5)\\n       If (feature 1 <= 59.5)\\n        Predict: 0.016666666666666666\\n       Else (feature 1 > 59.5)\\n        If (feature 1 <= 61.5)\\n         Predict: 0.7142857142857143\\n        Else (feature 1 > 61.5)\\n         Predict: 1.0\\n     Else (feature 0 > 142.5)\\n      If (feature 0 <= 153.5)\\n       If (feature 0 <= 146.5)\\n        Predict: 0.4918032786885246\\n       Else (feature 0 > 146.5)\\n        If (feature 0 <= 150.5)\\n         Predict: 0.5918367346938775\\n        Else (feature 0 > 150.5)\\n         Predict: 0.6231884057971014\\n      Else (feature 0 > 153.5)\\n       If (feature 1 <= 41.5)\\n        If (feature 0 <= 160.5)\\n         Predict: 0.23529411764705882\\n        Else (feature 0 > 160.5)\\n         Predict: 1.0\\n       Else (feature 1 > 41.5)\\n        If (feature 1 <= 46.5)\\n         Predict: 0.9401709401709402\\n        Else (feature 1 > 46.5)\\n         Predict: 1.0\\n    Else (feature 1 > 66.5)\\n     If (feature 1 <= 95.5)\\n      If (feature 1 <= 90.5)\\n       If (feature 0 <= 120.5)\\n        If (feature 0 <= 112.5)\\n         Predict: 0.0027829313543599257\\n        Else (feature 0 > 112.5)\\n         Predict: 0.31451612903225806\\n       Else (feature 0 > 120.5)\\n        If (feature 1 <= 75.5)\\n         Predict: 0.9025974025974026\\n        Else (feature 1 > 75.5)\\n         Predict: 0.99039780521262\\n      Else (feature 1 > 90.5)\\n       If (feature 0 <= 108.5)\\n        If (feature 1 <= 92.5)\\n         Predict: 0.0\\n        Else (feature 1 > 92.5)\\n         Predict: 0.06086956521739131\\n       Else (feature 0 > 108.5)\\n        Predict: 1.0\\n     Else (feature 1 > 95.5)\\n      If (feature 0 <= 97.5)\\n       If (feature 0 <= 93.5)\\n        If (feature 0 <= 90.5)\\n         Predict: 0.0\\n        Else (feature 0 > 90.5)\\n         Predict: 0.03571428571428571\\n       Else (feature 0 > 93.5)\\n        Predict: 0.38636363636363635\\n      Else (feature 0 > 97.5)\\n       If (feature 1 <= 101.5)\\n        If (feature 0 <= 101.5)\\n         Predict: 0.0\\n        Else (feature 0 > 101.5)\\n         Predict: 0.9946666666666667\\n       Else (feature 1 > 101.5)\\n        Predict: 1.0\\n  Tree 11 (weight 1.0):\\n    If (feature 0 <= 123.5)\\n     If (feature 1 <= 88.5)\\n      If (feature 1 <= 79.5)\\n       Predict: 0.0\\n      Else (feature 1 > 79.5)\\n       If (feature 1 <= 84.5)\\n        If (feature 0 <= 120.5)\\n         Predict: 0.017094017094017096\\n        Else (feature 0 > 120.5)\\n         Predict: 1.0\\n       Else (feature 1 > 84.5)\\n        If (feature 0 <= 112.5)\\n         Predict: 0.0\\n        Else (feature 0 > 112.5)\\n         Predict: 0.9333333333333333\\n     Else (feature 1 > 88.5)\\n      If (feature 1 <= 101.5)\\n       If (feature 0 <= 105.5)\\n        If (feature 0 <= 101.5)\\n         Predict: 0.002012072434607646\\n        Else (feature 0 > 101.5)\\n         Predict: 0.38\\n       Else (feature 0 > 105.5)\\n        If (feature 1 <= 92.5)\\n         Predict: 0.7966101694915254\\n        Else (feature 1 > 92.5)\\n         Predict: 0.9819819819819819\\n      Else (feature 1 > 101.5)\\n       If (feature 1 <= 108.5)\\n        If (feature 1 <= 105.5)\\n         Predict: 0.44954128440366975\\n        Else (feature 1 > 105.5)\\n         Predict: 0.38011695906432746\\n       Else (feature 1 > 108.5)\\n        If (feature 0 <= 90.5)\\n         Predict: 0.0\\n        Else (feature 0 > 90.5)\\n         Predict: 1.0\\n    Else (feature 0 > 123.5)\\n     If (feature 0 <= 146.5)\\n      If (feature 0 <= 138.5)\\n       If (feature 1 <= 71.5)\\n        If (feature 0 <= 135.5)\\n         Predict: 0.033112582781456956\\n        Else (feature 0 > 135.5)\\n         Predict: 0.22826086956521738\\n       Else (feature 1 > 71.5)\\n        If (feature 0 <= 127.5)\\n         Predict: 0.9259259259259259\\n        Else (feature 0 > 127.5)\\n         Predict: 1.0\\n      Else (feature 0 > 138.5)\\n       If (feature 1 <= 59.5)\\n        If (feature 1 <= 57.5)\\n         Predict: 0.037383177570093455\\n        Else (feature 1 > 57.5)\\n         Predict: 0.5\\n       Else (feature 1 > 59.5)\\n        If (feature 0 <= 142.5)\\n         Predict: 0.9712643678160919\\n        Else (feature 0 > 142.5)\\n         Predict: 1.0\\n     Else (feature 0 > 146.5)\\n      If (feature 0 <= 153.5)\\n       If (feature 0 <= 150.5)\\n        Predict: 0.8375\\n       Else (feature 0 > 150.5)\\n        Predict: 0.7784810126582279\\n      Else (feature 0 > 153.5)\\n       If (feature 0 <= 157.5)\\n        Predict: 0.9186046511627907\\n       Else (feature 0 > 157.5)\\n        Predict: 1.0\\n  Tree 12 (weight 1.0):\\n    If (feature 1 <= 64.5)\\n     If (feature 1 <= 57.5)\\n      If (feature 0 <= 153.5)\\n       If (feature 1 <= 48.5)\\n        Predict: 0.0\\n       Else (feature 1 > 48.5)\\n        If (feature 0 <= 146.5)\\n         Predict: 0.006069802731411229\\n        Else (feature 0 > 146.5)\\n         Predict: 0.7272727272727273\\n      Else (feature 0 > 153.5)\\n       If (feature 0 <= 157.5)\\n        If (feature 1 <= 46.5)\\n         Predict: 0.2\\n        Else (feature 1 > 46.5)\\n         Predict: 1.0\\n       Else (feature 0 > 157.5)\\n        Predict: 1.0\\n     Else (feature 1 > 57.5)\\n      If (feature 0 <= 138.5)\\n       If (feature 0 <= 135.5)\\n        Predict: 0.0\\n       Else (feature 0 > 135.5)\\n        Predict: 0.11538461538461539\\n      Else (feature 0 > 138.5)\\n       If (feature 1 <= 61.5)\\n        If (feature 0 <= 142.5)\\n         Predict: 0.5714285714285714\\n        Else (feature 0 > 142.5)\\n         Predict: 1.0\\n       Else (feature 1 > 61.5)\\n        Predict: 1.0\\n    Else (feature 1 > 64.5)\\n     If (feature 0 <= 108.5)\\n      If (feature 0 <= 93.5)\\n       If (feature 1 <= 108.5)\\n        Predict: 0.0\\n       Else (feature 1 > 108.5)\\n        Predict: 0.05660377358490566\\n      Else (feature 0 > 93.5)\\n       If (feature 0 <= 105.5)\\n        If (feature 1 <= 97.5)\\n         Predict: 0.009404388714733543\\n        Else (feature 1 > 97.5)\\n         Predict: 0.680672268907563\\n       Else (feature 0 > 105.5)\\n        Predict: 0.3389830508474576\\n     Else (feature 0 > 108.5)\\n      If (feature 0 <= 127.5)\\n       If (feature 0 <= 120.5)\\n        If (feature 0 <= 116.5)\\n         Predict: 0.5727002967359051\\n        Else (feature 0 > 116.5)\\n         Predict: 0.5352941176470588\\n       Else (feature 0 > 120.5)\\n        If (feature 0 <= 123.5)\\n         Predict: 0.7109375\\n        Else (feature 0 > 123.5)\\n         Predict: 0.7886178861788617\\n      Else (feature 0 > 127.5)\\n       If (feature 0 <= 131.5)\\n        If (feature 1 <= 71.5)\\n         Predict: 0.047619047619047616\\n        Else (feature 1 > 71.5)\\n         Predict: 0.9861111111111112\\n       Else (feature 0 > 131.5)\\n        If (feature 1 <= 68.5)\\n         Predict: 0.96\\n        Else (feature 1 > 68.5)\\n         Predict: 1.0\\n  Tree 13 (weight 1.0):\\n    If (feature 0 <= 127.5)\\n     If (feature 0 <= 108.5)\\n      If (feature 0 <= 93.5)\\n       If (feature 1 <= 108.5)\\n        Predict: 0.0\\n       Else (feature 1 > 108.5)\\n        If (feature 0 <= 90.5)\\n         Predict: 0.0\\n        Else (feature 0 > 90.5)\\n         Predict: 1.0\\n      Else (feature 0 > 93.5)\\n       If (feature 1 <= 97.5)\\n        If (feature 0 <= 101.5)\\n         Predict: 0.0\\n        Else (feature 0 > 101.5)\\n         Predict: 0.038461538461538464\\n       Else (feature 1 > 97.5)\\n        If (feature 1 <= 103.5)\\n         Predict: 0.5571428571428572\\n        Else (feature 1 > 103.5)\\n         Predict: 0.8939393939393939\\n     Else (feature 0 > 108.5)\\n      If (feature 0 <= 116.5)\\n       If (feature 1 <= 88.5)\\n        If (feature 0 <= 112.5)\\n         Predict: 0.0\\n        Else (feature 0 > 112.5)\\n         Predict: 0.05063291139240506\\n       Else (feature 1 > 88.5)\\n        If (feature 0 <= 112.5)\\n         Predict: 0.9647058823529412\\n        Else (feature 0 > 112.5)\\n         Predict: 1.0\\n      Else (feature 0 > 116.5)\\n       If (feature 1 <= 77.5)\\n        If (feature 0 <= 123.5)\\n         Predict: 0.0\\n        Else (feature 0 > 123.5)\\n         Predict: 0.056451612903225805\\n       Else (feature 1 > 77.5)\\n        If (feature 1 <= 84.5)\\n         Predict: 0.6304347826086957\\n        Else (feature 1 > 84.5)\\n         Predict: 1.0\\n    Else (feature 0 > 127.5)\\n     If (feature 0 <= 146.5)\\n      If (feature 0 <= 138.5)\\n       If (feature 0 <= 135.5)\\n        If (feature 1 <= 68.5)\\n         Predict: 0.0223463687150838\\n        Else (feature 1 > 68.5)\\n         Predict: 0.9740740740740741\\n       Else (feature 0 > 135.5)\\n        Predict: 0.6553398058252428\\n      Else (feature 0 > 138.5)\\n       If (feature 1 <= 59.5)\\n        If (feature 0 <= 142.5)\\n         Predict: 0.0\\n        Else (feature 0 > 142.5)\\n         Predict: 0.075\\n       Else (feature 1 > 59.5)\\n        If (feature 1 <= 61.5)\\n         Predict: 0.9411764705882353\\n        Else (feature 1 > 61.5)\\n         Predict: 1.0\\n     Else (feature 0 > 146.5)\\n      If (feature 1 <= 50.5)\\n       If (feature 0 <= 157.5)\\n        If (feature 1 <= 46.5)\\n         Predict: 0.10526315789473684\\n        Else (feature 1 > 46.5)\\n         Predict: 0.6041666666666666\\n       Else (feature 0 > 157.5)\\n        If (feature 0 <= 160.5)\\n         Predict: 0.96875\\n        Else (feature 0 > 160.5)\\n         Predict: 1.0\\n      Else (feature 1 > 50.5)\\n       If (feature 0 <= 150.5)\\n        Predict: 0.9792746113989638\\n       Else (feature 0 > 150.5)\\n        Predict: 1.0\\n  Tree 14 (weight 1.0):\\n    If (feature 1 <= 66.5)\\n     If (feature 1 <= 50.5)\\n      If (feature 0 <= 157.5)\\n       If (feature 1 <= 46.5)\\n        If (feature 1 <= 43.5)\\n         Predict: 0.0\\n        Else (feature 1 > 43.5)\\n         Predict: 0.00398406374501992\\n       Else (feature 1 > 46.5)\\n        If (feature 0 <= 150.5)\\n         Predict: 0.0\\n        Else (feature 0 > 150.5)\\n         Predict: 0.6296296296296297\\n      Else (feature 0 > 157.5)\\n       Predict: 1.0\\n     Else (feature 1 > 50.5)\\n      If (feature 0 <= 142.5)\\n       If (feature 0 <= 138.5)\\n        If (feature 0 <= 135.5)\\n         Predict: 0.0\\n        Else (feature 0 > 135.5)\\n         Predict: 0.05714285714285714\\n       Else (feature 0 > 138.5)\\n        If (feature 1 <= 59.5)\\n         Predict: 0.0\\n        Else (feature 1 > 59.5)\\n         Predict: 0.9166666666666666\\n      Else (feature 0 > 142.5)\\n       If (feature 0 <= 146.5)\\n        Predict: 0.5294117647058824\\n       Else (feature 0 > 146.5)\\n        Predict: 1.0\\n    Else (feature 1 > 66.5)\\n     If (feature 0 <= 108.5)\\n      If (feature 1 <= 95.5)\\n       If (feature 1 <= 92.5)\\n        Predict: 0.0\\n       Else (feature 1 > 92.5)\\n        If (feature 0 <= 105.5)\\n         Predict: 0.0\\n        Else (feature 0 > 105.5)\\n         Predict: 0.8\\n      Else (feature 1 > 95.5)\\n       If (feature 1 <= 105.5)\\n        If (feature 0 <= 97.5)\\n         Predict: 0.012539184952978056\\n        Else (feature 0 > 97.5)\\n         Predict: 0.7333333333333333\\n       Else (feature 1 > 105.5)\\n        If (feature 0 <= 93.5)\\n         Predict: 0.023809523809523808\\n        Else (feature 0 > 93.5)\\n         Predict: 1.0\\n     Else (feature 0 > 108.5)\\n      If (feature 1 <= 88.5)\\n       If (feature 0 <= 123.5)\\n        If (feature 1 <= 79.5)\\n         Predict: 0.023255813953488372\\n        Else (feature 1 > 79.5)\\n         Predict: 0.47368421052631576\\n       Else (feature 0 > 123.5)\\n        If (feature 0 <= 131.5)\\n         Predict: 0.7388059701492538\\n        Else (feature 0 > 131.5)\\n         Predict: 0.9989281886387996\\n      Else (feature 1 > 88.5)\\n       If (feature 1 <= 90.5)\\n        If (feature 0 <= 112.5)\\n         Predict: 0.8\\n        Else (feature 0 > 112.5)\\n         Predict: 1.0\\n       Else (feature 1 > 90.5)\\n        Predict: 1.0\\n  Tree 15 (weight 1.0):\\n    If (feature 1 <= 73.5)\\n     If (feature 1 <= 57.5)\\n      If (feature 1 <= 50.5)\\n       If (feature 0 <= 153.5)\\n        If (feature 1 <= 46.5)\\n         Predict: 0.0\\n        Else (feature 1 > 46.5)\\n         Predict: 0.03194888178913738\\n       Else (feature 0 > 153.5)\\n        If (feature 1 <= 41.5)\\n         Predict: 0.7674418604651163\\n        Else (feature 1 > 41.5)\\n         Predict: 0.9519230769230769\\n      Else (feature 1 > 50.5)\\n       If (feature 1 <= 55.5)\\n        If (feature 0 <= 146.5)\\n         Predict: 0.009202453987730062\\n        Else (feature 0 > 146.5)\\n         Predict: 0.9865771812080537\\n       Else (feature 1 > 55.5)\\n        Predict: 0.20855614973262032\\n     Else (feature 1 > 57.5)\\n      If (feature 1 <= 66.5)\\n       If (feature 0 <= 138.5)\\n        If (feature 0 <= 135.5)\\n         Predict: 0.0\\n        Else (feature 0 > 135.5)\\n         Predict: 0.20689655172413793\\n       Else (feature 0 > 138.5)\\n        If (feature 1 <= 61.5)\\n         Predict: 0.9754098360655737\\n        Else (feature 1 > 61.5)\\n         Predict: 1.0\\n      Else (feature 1 > 66.5)\\n       If (feature 1 <= 71.5)\\n        If (feature 0 <= 131.5)\\n         Predict: 0.0037593984962406013\\n        Else (feature 0 > 131.5)\\n         Predict: 0.9951690821256038\\n       Else (feature 1 > 71.5)\\n        If (feature 0 <= 123.5)\\n         Predict: 0.0\\n        Else (feature 0 > 123.5)\\n         Predict: 0.9866666666666667\\n    Else (feature 1 > 73.5)\\n     If (feature 0 <= 108.5)\\n      If (feature 0 <= 97.5)\\n       If (feature 0 <= 93.5)\\n        Predict: 0.0\\n       Else (feature 0 > 93.5)\\n        If (feature 1 <= 105.5)\\n         Predict: 0.017857142857142856\\n        Else (feature 1 > 105.5)\\n         Predict: 0.8888888888888888\\n      Else (feature 0 > 97.5)\\n       If (feature 1 <= 97.5)\\n        If (feature 0 <= 101.5)\\n         Predict: 0.0\\n        Else (feature 0 > 101.5)\\n         Predict: 0.04929577464788732\\n       Else (feature 1 > 97.5)\\n        If (feature 0 <= 101.5)\\n         Predict: 0.7321428571428571\\n        Else (feature 0 > 101.5)\\n         Predict: 1.0\\n     Else (feature 0 > 108.5)\\n      If (feature 0 <= 120.5)\\n       If (feature 0 <= 112.5)\\n        Predict: 0.6016260162601627\\n       Else (feature 0 > 112.5)\\n        If (feature 0 <= 116.5)\\n         Predict: 0.7301587301587301\\n        Else (feature 0 > 116.5)\\n         Predict: 0.6982758620689655\\n      Else (feature 0 > 120.5)\\n       If (feature 0 <= 127.5)\\n        If (feature 1 <= 75.5)\\n         Predict: 0.35294117647058826\\n        Else (feature 1 > 75.5)\\n         Predict: 0.9880239520958084\\n       Else (feature 0 > 127.5)\\n        Predict: 1.0\\n  Tree 16 (weight 1.0):\\n    If (feature 0 <= 127.5)\\n     If (feature 0 <= 108.5)\\n      If (feature 1 <= 97.5)\\n       If (feature 0 <= 105.5)\\n        If (feature 0 <= 101.5)\\n         Predict: 0.0\\n        Else (feature 0 > 101.5)\\n         Predict: 0.015463917525773196\\n       Else (feature 0 > 105.5)\\n        If (feature 1 <= 92.5)\\n         Predict: 0.0\\n        Else (feature 1 > 92.5)\\n         Predict: 0.75\\n      Else (feature 1 > 97.5)\\n       If (feature 1 <= 105.5)\\n        If (feature 0 <= 101.5)\\n         Predict: 0.041666666666666664\\n        Else (feature 0 > 101.5)\\n         Predict: 1.0\\n       Else (feature 1 > 105.5)\\n        If (feature 0 <= 93.5)\\n         Predict: 0.016129032258064516\\n        Else (feature 0 > 93.5)\\n         Predict: 0.9782608695652174\\n     Else (feature 0 > 108.5)\\n      If (feature 0 <= 120.5)\\n       If (feature 1 <= 86.5)\\n        If (feature 1 <= 81.5)\\n         Predict: 0.002551020408163265\\n        Else (feature 1 > 81.5)\\n         Predict: 0.2857142857142857\\n       Else (feature 1 > 86.5)\\n        If (feature 1 <= 88.5)\\n         Predict: 0.7083333333333334\\n        Else (feature 1 > 88.5)\\n         Predict: 0.9919678714859438\\n      Else (feature 0 > 120.5)\\n       If (feature 1 <= 75.5)\\n        If (feature 1 <= 73.5)\\n         Predict: 0.0\\n        Else (feature 1 > 73.5)\\n         Predict: 0.11764705882352941\\n       Else (feature 1 > 75.5)\\n        If (feature 0 <= 123.5)\\n         Predict: 0.9647058823529412\\n        Else (feature 0 > 123.5)\\n         Predict: 0.9777777777777777\\n    Else (feature 0 > 127.5)\\n     If (feature 1 <= 64.5)\\n      If (feature 0 <= 146.5)\\n       If (feature 0 <= 142.5)\\n        If (feature 0 <= 138.5)\\n         Predict: 0.012448132780082987\\n        Else (feature 0 > 138.5)\\n         Predict: 0.13793103448275862\\n       Else (feature 0 > 142.5)\\n        Predict: 0.34\\n      Else (feature 0 > 146.5)\\n       If (feature 1 <= 50.5)\\n        If (feature 1 <= 41.5)\\n         Predict: 0.5975609756097561\\n        Else (feature 1 > 41.5)\\n         Predict: 0.7518518518518519\\n       Else (feature 1 > 50.5)\\n        If (feature 1 <= 52.5)\\n         Predict: 0.9726027397260274\\n        Else (feature 1 > 52.5)\\n         Predict: 1.0\\n     Else (feature 1 > 64.5)\\n      If (feature 0 <= 135.5)\\n       If (feature 1 <= 71.5)\\n        If (feature 0 <= 131.5)\\n         Predict: 0.07692307692307693\\n        Else (feature 0 > 131.5)\\n         Predict: 0.5833333333333334\\n       Else (feature 1 > 71.5)\\n        If (feature 1 <= 73.5)\\n         Predict: 0.9090909090909091\\n        Else (feature 1 > 73.5)\\n         Predict: 1.0\\n      Else (feature 0 > 135.5)\\n       Predict: 1.0\\n  Tree 17 (weight 1.0):\\n    If (feature 0 <= 120.5)\\n     If (feature 0 <= 105.5)\\n      If (feature 0 <= 97.5)\\n       If (feature 0 <= 90.5)\\n        Predict: 0.0\\n       Else (feature 0 > 90.5)\\n        If (feature 0 <= 93.5)\\n         Predict: 0.02617801047120419\\n        Else (feature 0 > 93.5)\\n         Predict: 0.02843601895734597\\n      Else (feature 0 > 97.5)\\n       If (feature 0 <= 101.5)\\n        If (feature 1 <= 101.5)\\n         Predict: 0.005263157894736842\\n        Else (feature 1 > 101.5)\\n         Predict: 1.0\\n       Else (feature 0 > 101.5)\\n        Predict: 0.16822429906542055\\n     Else (feature 0 > 105.5)\\n      If (feature 1 <= 86.5)\\n       If (feature 0 <= 112.5)\\n        Predict: 0.0\\n       Else (feature 0 > 112.5)\\n        If (feature 0 <= 116.5)\\n         Predict: 0.022900763358778626\\n        Else (feature 0 > 116.5)\\n         Predict: 0.007407407407407408\\n      Else (feature 1 > 86.5)\\n       If (feature 0 <= 108.5)\\n        Predict: 0.7017543859649122\\n       Else (feature 0 > 108.5)\\n        If (feature 1 <= 88.5)\\n         Predict: 0.5862068965517241\\n        Else (feature 1 > 88.5)\\n         Predict: 0.996\\n    Else (feature 0 > 120.5)\\n     If (feature 0 <= 142.5)\\n      If (feature 1 <= 71.5)\\n       If (feature 0 <= 135.5)\\n        If (feature 1 <= 66.5)\\n         Predict: 0.0\\n        Else (feature 1 > 66.5)\\n         Predict: 0.25396825396825395\\n       Else (feature 0 > 135.5)\\n        If (feature 1 <= 61.5)\\n         Predict: 0.06578947368421052\\n        Else (feature 1 > 61.5)\\n         Predict: 0.9074074074074074\\n      Else (feature 1 > 71.5)\\n       If (feature 0 <= 123.5)\\n        Predict: 0.8598130841121495\\n       Else (feature 0 > 123.5)\\n        If (feature 1 <= 77.5)\\n         Predict: 0.957983193277311\\n        Else (feature 1 > 77.5)\\n         Predict: 1.0\\n     Else (feature 0 > 142.5)\\n      If (feature 1 <= 50.5)\\n       If (feature 1 <= 41.5)\\n        If (feature 0 <= 157.5)\\n         Predict: 0.0\\n        Else (feature 0 > 157.5)\\n         Predict: 1.0\\n       Else (feature 1 > 41.5)\\n        If (feature 0 <= 153.5)\\n         Predict: 0.07865168539325842\\n        Else (feature 0 > 153.5)\\n         Predict: 0.9312169312169312\\n      Else (feature 1 > 50.5)\\n       If (feature 0 <= 150.5)\\n        If (feature 0 <= 146.5)\\n         Predict: 0.9595375722543352\\n        Else (feature 0 > 146.5)\\n         Predict: 0.970873786407767\\n       Else (feature 0 > 150.5)\\n        Predict: 1.0\\n  Tree 18 (weight 1.0):\\n    If (feature 1 <= 64.5)\\n     If (feature 0 <= 146.5)\\n      If (feature 0 <= 138.5)\\n       If (feature 1 <= 61.5)\\n        Predict: 0.0\\n       Else (feature 1 > 61.5)\\n        If (feature 0 <= 135.5)\\n         Predict: 0.0\\n        Else (feature 0 > 135.5)\\n         Predict: 0.3333333333333333\\n      Else (feature 0 > 138.5)\\n       If (feature 1 <= 57.5)\\n        If (feature 0 <= 142.5)\\n         Predict: 0.0\\n        Else (feature 0 > 142.5)\\n         Predict: 0.044444444444444446\\n       Else (feature 1 > 57.5)\\n        If (feature 1 <= 61.5)\\n         Predict: 0.6818181818181818\\n        Else (feature 1 > 61.5)\\n         Predict: 1.0\\n     Else (feature 0 > 146.5)\\n      If (feature 1 <= 50.5)\\n       If (feature 0 <= 157.5)\\n        If (feature 0 <= 153.5)\\n         Predict: 0.10975609756097561\\n        Else (feature 0 > 153.5)\\n         Predict: 0.5277777777777778\\n       Else (feature 0 > 157.5)\\n        If (feature 0 <= 160.5)\\n         Predict: 0.9444444444444444\\n        Else (feature 0 > 160.5)\\n         Predict: 1.0\\n      Else (feature 1 > 50.5)\\n       If (feature 0 <= 150.5)\\n        If (feature 1 <= 55.5)\\n         Predict: 0.7647058823529411\\n        Else (feature 1 > 55.5)\\n         Predict: 1.0\\n       Else (feature 0 > 150.5)\\n        Predict: 1.0\\n    Else (feature 1 > 64.5)\\n     If (feature 1 <= 97.5)\\n      If (feature 0 <= 120.5)\\n       If (feature 0 <= 108.5)\\n        If (feature 0 <= 105.5)\\n         Predict: 0.0023273855702094647\\n        Else (feature 0 > 105.5)\\n         Predict: 0.08860759493670886\\n       Else (feature 0 > 108.5)\\n        If (feature 1 <= 86.5)\\n         Predict: 0.05314009661835749\\n        Else (feature 1 > 86.5)\\n         Predict: 0.9509803921568627\\n      Else (feature 0 > 120.5)\\n       If (feature 0 <= 131.5)\\n        If (feature 0 <= 123.5)\\n         Predict: 0.5675675675675675\\n        Else (feature 0 > 123.5)\\n         Predict: 0.796875\\n       Else (feature 0 > 131.5)\\n        If (feature 0 <= 135.5)\\n         Predict: 0.9067796610169492\\n        Else (feature 0 > 135.5)\\n         Predict: 1.0\\n     Else (feature 1 > 97.5)\\n      If (feature 0 <= 97.5)\\n       If (feature 1 <= 108.5)\\n        If (feature 0 <= 93.5)\\n         Predict: 0.0\\n        Else (feature 0 > 93.5)\\n         Predict: 0.25\\n       Else (feature 1 > 108.5)\\n        If (feature 0 <= 90.5)\\n         Predict: 0.0\\n        Else (feature 0 > 90.5)\\n         Predict: 1.0\\n      Else (feature 0 > 97.5)\\n       If (feature 0 <= 101.5)\\n        If (feature 1 <= 101.5)\\n         Predict: 0.125\\n        Else (feature 1 > 101.5)\\n         Predict: 0.918918918918919\\n       Else (feature 0 > 101.5)\\n        Predict: 1.0\\n  Tree 19 (weight 1.0):\\n    If (feature 0 <= 123.5)\\n     If (feature 0 <= 101.5)\\n      If (feature 0 <= 97.5)\\n       If (feature 0 <= 93.5)\\n        If (feature 0 <= 90.5)\\n         Predict: 0.0\\n        Else (feature 0 > 90.5)\\n         Predict: 0.010101010101010102\\n       Else (feature 0 > 93.5)\\n        If (feature 1 <= 105.5)\\n         Predict: 0.00847457627118644\\n        Else (feature 1 > 105.5)\\n         Predict: 0.9090909090909091\\n      Else (feature 0 > 97.5)\\n       Predict: 0.16015625\\n     Else (feature 0 > 101.5)\\n      If (feature 0 <= 108.5)\\n       If (feature 0 <= 105.5)\\n        Predict: 0.18536585365853658\\n       Else (feature 0 > 105.5)\\n        If (feature 1 <= 92.5)\\n         Predict: 0.0\\n        Else (feature 1 > 92.5)\\n         Predict: 0.926829268292683\\n      Else (feature 0 > 108.5)\\n       If (feature 1 <= 84.5)\\n        If (feature 0 <= 120.5)\\n         Predict: 0.010050251256281407\\n        Else (feature 0 > 120.5)\\n         Predict: 0.11926605504587157\\n       Else (feature 1 > 84.5)\\n        If (feature 0 <= 112.5)\\n         Predict: 0.8604651162790697\\n        Else (feature 0 > 112.5)\\n         Predict: 0.9955555555555555\\n    Else (feature 0 > 123.5)\\n     If (feature 1 <= 64.5)\\n      If (feature 1 <= 52.5)\\n       If (feature 0 <= 157.5)\\n        If (feature 0 <= 153.5)\\n         Predict: 0.03939393939393939\\n        Else (feature 0 > 153.5)\\n         Predict: 0.49122807017543857\\n       Else (feature 0 > 157.5)\\n        Predict: 1.0\\n      Else (feature 1 > 52.5)\\n       If (feature 0 <= 142.5)\\n        If (feature 0 <= 138.5)\\n         Predict: 0.011764705882352941\\n        Else (feature 0 > 138.5)\\n         Predict: 0.3488372093023256\\n       Else (feature 0 > 142.5)\\n        If (feature 1 <= 55.5)\\n         Predict: 0.9411764705882353\\n        Else (feature 1 > 55.5)\\n         Predict: 1.0\\n     Else (feature 1 > 64.5)\\n      If (feature 1 <= 71.5)\\n       If (feature 1 <= 68.5)\\n        If (feature 1 <= 66.5)\\n         Predict: 0.875\\n        Else (feature 1 > 66.5)\\n         Predict: 0.897196261682243\\n       Else (feature 1 > 68.5)\\n        Predict: 0.8571428571428571\\n      Else (feature 1 > 71.5)\\n       If (feature 0 <= 127.5)\\n        Predict: 0.9202898550724637\\n       Else (feature 0 > 127.5)\\n        If (feature 1 <= 73.5)\\n         Predict: 0.9859154929577465\\n        Else (feature 1 > 73.5)\\n         Predict: 1.0\\n'"
      ]
     },
     "execution_count": 25,
     "metadata": {},
     "output_type": "execute_result"
    }
   ],
   "source": [
    "rf_model.toDebugString"
   ]
  },
  {
   "cell_type": "code",
   "execution_count": null,
   "metadata": {
    "collapsed": true
   },
   "outputs": [],
   "source": []
  },
  {
   "cell_type": "code",
   "execution_count": null,
   "metadata": {
    "collapsed": true
   },
   "outputs": [],
   "source": []
  },
  {
   "cell_type": "code",
   "execution_count": null,
   "metadata": {
    "collapsed": true
   },
   "outputs": [],
   "source": []
  }
 ],
 "metadata": {
  "kernelspec": {
   "display_name": "Python 3",
   "language": "python",
   "name": "python3"
  },
  "language_info": {
   "codemirror_mode": {
    "name": "ipython",
    "version": 3
   },
   "file_extension": ".py",
   "mimetype": "text/x-python",
   "name": "python",
   "nbconvert_exporter": "python",
   "pygments_lexer": "ipython3",
   "version": "3.5.4"
  }
 },
 "nbformat": 4,
 "nbformat_minor": 2
}
