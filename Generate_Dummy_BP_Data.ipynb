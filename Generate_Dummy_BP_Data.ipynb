{
 "cells": [
  {
   "cell_type": "code",
   "execution_count": null,
   "metadata": {
    "collapsed": true
   },
   "outputs": [],
   "source": [
    "# generate some dummy data for building ML regressions in PySpark.\n",
    "# We'll use this to predict whether a patient is coded hypertensive.\n",
    "# The script selects random uniform distributed variables between an upper\n",
    "# and lower range, and then codes as hyptertensive if the systolic + diastolic\n",
    "# exceeds 200. There are no correlations between variables\n",
    "# you might want to make it a bit more realistic. \n",
    "# though most likely you'll adapt to clinical data"
   ]
  },
  {
   "cell_type": "code",
   "execution_count": null,
   "metadata": {
    "collapsed": true
   },
   "outputs": [],
   "source": [
    "import random"
   ]
  },
  {
   "cell_type": "code",
   "execution_count": null,
   "metadata": {},
   "outputs": [],
   "source": [
    "with open('hypertensive1.csv', 'w') as data_file:\n",
    "    data_file.write('bmi,systolic,diastolic,hypertensive')\n",
    "\n",
    "    for i in range(10000):\n",
    "        bmi = random.randint(18, 30)\n",
    "        systolic = random.randint(60, 180)\n",
    "        diastolic = random.randint(40, 110)\n",
    "        hypertensive = int(systolic + diastolic > 200)\n",
    "        data_file.write(\"\\n\" + str(bmi) + \",\" + str(systolic) + \",\" + str(diastolic) + \",\" + str(hypertensive))"
   ]
  },
  {
   "cell_type": "code",
   "execution_count": null,
   "metadata": {
    "collapsed": true
   },
   "outputs": [],
   "source": []
  }
 ],
 "metadata": {
  "kernelspec": {
   "display_name": "Python 3",
   "language": "python",
   "name": "python3"
  },
  "language_info": {
   "codemirror_mode": {
    "name": "ipython",
    "version": 3
   },
   "file_extension": ".py",
   "mimetype": "text/x-python",
   "name": "python",
   "nbconvert_exporter": "python",
   "pygments_lexer": "ipython3",
   "version": "3.5.4"
  }
 },
 "nbformat": 4,
 "nbformat_minor": 2
}
