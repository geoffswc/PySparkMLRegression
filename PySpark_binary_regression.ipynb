{
 "cells": [
  {
   "cell_type": "code",
   "execution_count": 4,
   "metadata": {
    "collapsed": true
   },
   "outputs": [],
   "source": [
    "# this workbook demonstrates how to use PySparkML to do single variable binary regression\n",
    "# the setup is a bit contrived, since this is a how-to demo\n",
    "# The gapminder_data has an additional column, \"Over_65\", which is set to 1 or 0 \n",
    "# based on whether the life expectancy in 2007 is above or below 65\n",
    "# we then train a regression model to \n",
    "# - predict whether life expectancy is above or below 65\n",
    "# - evaluate the model accuracy\n",
    "# - find the decision threshold\n",
    "# \n",
    "# we will do this with 1) a decision tree regressor, and 2) a random forest regressor\n",
    "#\n",
    "# this code parallels the continuous regression workbook example\n",
    "# please see that example for more comments and explanations"
   ]
  },
  {
   "cell_type": "code",
   "execution_count": 5,
   "metadata": {
    "collapsed": true
   },
   "outputs": [],
   "source": [
    "from pyspark import SparkConf, SparkContext\n",
    "from pyspark.sql import SQLContext\n",
    "from pyspark.ml.evaluation import MulticlassClassificationEvaluator"
   ]
  },
  {
   "cell_type": "code",
   "execution_count": 6,
   "metadata": {
    "collapsed": true
   },
   "outputs": [],
   "source": [
    "from pyspark.sql.session import SparkSession\n",
    "sc = SparkContext('local')\n",
    "spark = SparkSession(sc)"
   ]
  },
  {
   "cell_type": "code",
   "execution_count": 7,
   "metadata": {
    "collapsed": true
   },
   "outputs": [],
   "source": [
    "sqlContext = SQLContext(sc)"
   ]
  },
  {
   "cell_type": "code",
   "execution_count": 8,
   "metadata": {
    "collapsed": true
   },
   "outputs": [],
   "source": [
    "df = sqlContext.read.format(\"csv\").option(\"inferschema\",\"true\").option(\"header\", \"true\").option(\"delimiter\", \",\").load(\"gapminder_all_binary.csv\")"
   ]
  },
  {
   "cell_type": "code",
   "execution_count": 9,
   "metadata": {
    "collapsed": true
   },
   "outputs": [],
   "source": [
    "# split the data into a training set (train model) and testing set (evaluate model)\n",
    "(trainingData, testData) = df.randomSplit([0.7, 0.3])"
   ]
  },
  {
   "cell_type": "code",
   "execution_count": 10,
   "metadata": {},
   "outputs": [
    {
     "name": "stdout",
     "output_type": "stream",
     "text": [
      "root\n",
      " |-- continent: string (nullable = true)\n",
      " |-- country: string (nullable = true)\n",
      " |-- gdpPercap_1952: double (nullable = true)\n",
      " |-- gdpPercap_1957: double (nullable = true)\n",
      " |-- gdpPercap_1962: double (nullable = true)\n",
      " |-- gdpPercap_1967: double (nullable = true)\n",
      " |-- gdpPercap_1972: double (nullable = true)\n",
      " |-- gdpPercap_1977: double (nullable = true)\n",
      " |-- gdpPercap_1982: double (nullable = true)\n",
      " |-- gdpPercap_1987: double (nullable = true)\n",
      " |-- gdpPercap_1992: double (nullable = true)\n",
      " |-- gdpPercap_1997: double (nullable = true)\n",
      " |-- gdpPercap_2002: double (nullable = true)\n",
      " |-- gdpPercap_2007: double (nullable = true)\n",
      " |-- lifeExp_1952: double (nullable = true)\n",
      " |-- lifeExp_1957: double (nullable = true)\n",
      " |-- lifeExp_1962: double (nullable = true)\n",
      " |-- lifeExp_1967: double (nullable = true)\n",
      " |-- lifeExp_1972: double (nullable = true)\n",
      " |-- lifeExp_1977: double (nullable = true)\n",
      " |-- lifeExp_1982: double (nullable = true)\n",
      " |-- lifeExp_1987: double (nullable = true)\n",
      " |-- lifeExp_1992: double (nullable = true)\n",
      " |-- lifeExp_1997: double (nullable = true)\n",
      " |-- lifeExp_2002: double (nullable = true)\n",
      " |-- lifeExp_2007: double (nullable = true)\n",
      " |-- pop_1952: double (nullable = true)\n",
      " |-- pop_1957: decimal(9,0) (nullable = true)\n",
      " |-- pop_1962: decimal(9,0) (nullable = true)\n",
      " |-- pop_1967: decimal(9,0) (nullable = true)\n",
      " |-- pop_1972: decimal(9,0) (nullable = true)\n",
      " |-- pop_1977: decimal(9,0) (nullable = true)\n",
      " |-- pop_1982: decimal(10,0) (nullable = true)\n",
      " |-- pop_1987: decimal(10,0) (nullable = true)\n",
      " |-- pop_1992: decimal(10,0) (nullable = true)\n",
      " |-- pop_1997: decimal(10,0) (nullable = true)\n",
      " |-- pop_2002: integer (nullable = true)\n",
      " |-- pop_2007: integer (nullable = true)\n",
      " |-- Over_65: integer (nullable = true)\n",
      "\n"
     ]
    }
   ],
   "source": [
    "df.printSchema()"
   ]
  },
  {
   "cell_type": "code",
   "execution_count": 11,
   "metadata": {
    "collapsed": true
   },
   "outputs": [],
   "source": [
    "from pyspark.ml.feature import VectorAssembler"
   ]
  },
  {
   "cell_type": "code",
   "execution_count": 25,
   "metadata": {},
   "outputs": [
    {
     "name": "stdout",
     "output_type": "stream",
     "text": [
      "+--------+-------+\n",
      "|features|Over_65|\n",
      "+--------+-------+\n",
      "|[72.301]|      1|\n",
      "|[42.731]|      0|\n",
      "|[56.728]|      0|\n",
      "|[50.728]|      0|\n",
      "| [49.58]|      0|\n",
      "|[44.741]|      0|\n",
      "|[50.651]|      0|\n",
      "|[46.462]|      0|\n",
      "|[48.328]|      0|\n",
      "|[54.791]|      0|\n",
      "+--------+-------+\n",
      "only showing top 10 rows\n",
      "\n"
     ]
    }
   ],
   "source": [
    "vectorAssembler = VectorAssembler(inputCols = ['lifeExp_2007'], outputCol = 'features')\n",
    "va_training = vectorAssembler.transform(trainingData)\n",
    "va_training = va_training.select(['features', 'Over_65'])\n",
    "va_training.show(10)"
   ]
  },
  {
   "cell_type": "code",
   "execution_count": 26,
   "metadata": {
    "collapsed": true
   },
   "outputs": [],
   "source": [
    "from pyspark.ml.regression import DecisionTreeRegressor"
   ]
  },
  {
   "cell_type": "code",
   "execution_count": 27,
   "metadata": {
    "collapsed": true
   },
   "outputs": [],
   "source": [
    "dt = DecisionTreeRegressor(featuresCol ='features', labelCol = 'Over_65')"
   ]
  },
  {
   "cell_type": "code",
   "execution_count": 28,
   "metadata": {
    "collapsed": true
   },
   "outputs": [],
   "source": [
    "dt_model = dt.fit(va_training)"
   ]
  },
  {
   "cell_type": "code",
   "execution_count": 29,
   "metadata": {},
   "outputs": [
    {
     "name": "stdout",
     "output_type": "stream",
     "text": [
      "+--------+-------+\n",
      "|features|Over_65|\n",
      "+--------+-------+\n",
      "|[72.301]|      1|\n",
      "|[42.731]|      0|\n",
      "|[56.728]|      0|\n",
      "|[50.728]|      0|\n",
      "| [49.58]|      0|\n",
      "|[44.741]|      0|\n",
      "|[50.651]|      0|\n",
      "|[46.462]|      0|\n",
      "|[48.328]|      0|\n",
      "|[54.791]|      0|\n",
      "+--------+-------+\n",
      "only showing top 10 rows\n",
      "\n"
     ]
    }
   ],
   "source": [
    "va_testing = vectorAssembler.transform(trainingData)\n",
    "va_testing = va_testing.select(['features', 'Over_65'])\n",
    "va_testing.show(10)"
   ]
  },
  {
   "cell_type": "code",
   "execution_count": 30,
   "metadata": {
    "collapsed": true
   },
   "outputs": [],
   "source": [
    "dt_predictions = dt_model.transform(va_testing)"
   ]
  },
  {
   "cell_type": "code",
   "execution_count": 31,
   "metadata": {},
   "outputs": [
    {
     "name": "stdout",
     "output_type": "stream",
     "text": [
      "+--------+-------+------------------+\n",
      "|features|Over_65|        prediction|\n",
      "+--------+-------+------------------+\n",
      "|[72.301]|      1|               1.0|\n",
      "|[42.731]|      0|               0.0|\n",
      "|[56.728]|      0|               0.0|\n",
      "|[50.728]|      0|               0.0|\n",
      "| [49.58]|      0|               0.0|\n",
      "|[44.741]|      0|               0.0|\n",
      "|[50.651]|      0|               0.0|\n",
      "|[46.462]|      0|               0.0|\n",
      "|[48.328]|      0|               0.0|\n",
      "|[54.791]|      0|               0.0|\n",
      "|[51.579]|      0|               0.0|\n",
      "| [58.04]|      0|               0.0|\n",
      "|[52.947]|      0|               0.0|\n",
      "|[59.448]|      0|               0.0|\n",
      "|[56.007]|      0|               0.0|\n",
      "|[46.388]|      0|               0.0|\n",
      "| [54.11]|      0|               0.0|\n",
      "|[42.592]|      0|               0.0|\n",
      "|[45.678]|      0|               0.0|\n",
      "|[73.952]|      1|               1.0|\n",
      "|[59.443]|      0|               0.0|\n",
      "|[48.303]|      0|               0.0|\n",
      "|[54.467]|      0|               0.0|\n",
      "|[64.164]|      0|               0.0|\n",
      "|[72.801]|      1|               1.0|\n",
      "|[71.164]|      1|               1.0|\n",
      "|[52.906]|      0|               0.0|\n",
      "|[56.867]|      0|               0.0|\n",
      "|[76.442]|      1|0.6666666666666666|\n",
      "|[42.568]|      0|               0.0|\n",
      "|[49.339]|      0|               0.0|\n",
      "| [58.42]|      0|               0.0|\n",
      "|[73.923]|      1|               1.0|\n",
      "|[51.542]|      0|               0.0|\n",
      "|[43.487]|      0|               0.0|\n",
      "|[65.554]|      1|0.6666666666666666|\n",
      "|[80.653]|      1|               1.0|\n",
      "|[78.553]|      1|               1.0|\n",
      "|[72.889]|      1|               1.0|\n",
      "|[78.782]|      1|               1.0|\n",
      "|[78.273]|      1|               1.0|\n",
      "|[74.994]|      1|               1.0|\n",
      "|[71.878]|      1|               1.0|\n",
      "|[60.916]|      0|0.3333333333333333|\n",
      "|[70.198]|      1|               1.0|\n",
      "|[72.567]|      1|               1.0|\n",
      "|[76.195]|      1|               1.0|\n",
      "|[72.899]|      1|               1.0|\n",
      "|[75.537]|      1|               1.0|\n",
      "|[71.752]|      1|               1.0|\n",
      "|[71.421]|      1|               1.0|\n",
      "|[69.819]|      1|               1.0|\n",
      "|[78.242]|      1|               1.0|\n",
      "|[76.384]|      1|0.6666666666666666|\n",
      "|[73.747]|      1|               1.0|\n",
      "|[75.635]|      1|               1.0|\n",
      "|[64.062]|      0|               0.0|\n",
      "|[64.698]|      0|0.6666666666666666|\n",
      "| [70.65]|      1|               1.0|\n",
      "|[70.964]|      1|               1.0|\n",
      "|[72.535]|      1|               1.0|\n",
      "|[77.588]|      1|               1.0|\n",
      "|[74.241]|      1|               1.0|\n",
      "|[66.803]|      1|               1.0|\n",
      "|[62.069]|      0|0.3333333333333333|\n",
      "|[63.785]|      0|               0.0|\n",
      "| [75.64]|      1|               1.0|\n",
      "|[65.483]|      1|0.6666666666666666|\n",
      "|[72.777]|      1|               1.0|\n",
      "|[79.972]|      1|               1.0|\n",
      "|[72.396]|      1|               1.0|\n",
      "|[74.143]|      1|               1.0|\n",
      "|[74.249]|      1|               1.0|\n",
      "|[73.422]|      1|               1.0|\n",
      "|[62.698]|      1|0.3333333333333333|\n",
      "|[76.423]|      0|0.6666666666666666|\n",
      "|[79.829]|      1|               1.0|\n",
      "|[79.441]|      1|               1.0|\n",
      "|[74.852]|      1|               1.0|\n",
      "|[73.005]|      1|               1.0|\n",
      "|[75.748]|      1|               1.0|\n",
      "|[76.486]|      1|               1.0|\n",
      "|[79.313]|      1|               1.0|\n",
      "|[79.406]|      1|               1.0|\n",
      "|[81.757]|      1|               1.0|\n",
      "|[80.546]|      1|               1.0|\n",
      "|[74.543]|      1|               1.0|\n",
      "|[79.762]|      1|               1.0|\n",
      "|[80.196]|      1|               1.0|\n",
      "|[75.563]|      1|               1.0|\n",
      "|[72.476]|      1|               1.0|\n",
      "|[74.002]|      1|               1.0|\n",
      "|[74.663]|      1|               1.0|\n",
      "|[80.941]|      1|               1.0|\n",
      "|[80.884]|      1|               1.0|\n",
      "|[81.701]|      1|               1.0|\n",
      "|[79.425]|      1|               1.0|\n",
      "|[80.204]|      1|               1.0|\n",
      "+--------+-------+------------------+\n",
      "\n"
     ]
    }
   ],
   "source": [
    "dt_predictions.show(100)"
   ]
  },
  {
   "cell_type": "code",
   "execution_count": null,
   "metadata": {
    "collapsed": true
   },
   "outputs": [],
   "source": []
  },
  {
   "cell_type": "code",
   "execution_count": 32,
   "metadata": {
    "collapsed": true
   },
   "outputs": [],
   "source": [
    "from pyspark.ml.regression import RandomForestRegressor"
   ]
  },
  {
   "cell_type": "code",
   "execution_count": 33,
   "metadata": {
    "collapsed": true
   },
   "outputs": [],
   "source": [
    "rf = RandomForestRegressor(featuresCol ='features', labelCol = 'Over_65', numTrees=20)"
   ]
  },
  {
   "cell_type": "code",
   "execution_count": 34,
   "metadata": {
    "collapsed": true
   },
   "outputs": [],
   "source": [
    "rf_model = rf.fit(va_training)"
   ]
  },
  {
   "cell_type": "code",
   "execution_count": 35,
   "metadata": {
    "collapsed": true
   },
   "outputs": [],
   "source": [
    "rf_predictions = rf_model.transform(va_testing)"
   ]
  },
  {
   "cell_type": "code",
   "execution_count": 37,
   "metadata": {},
   "outputs": [
    {
     "name": "stdout",
     "output_type": "stream",
     "text": [
      "+--------+-------+------------------+\n",
      "|features|Over_65|        prediction|\n",
      "+--------+-------+------------------+\n",
      "|[72.301]|      1|               1.0|\n",
      "|[42.731]|      0|               0.0|\n",
      "|[56.728]|      0|               0.0|\n",
      "|[50.728]|      0|               0.0|\n",
      "| [49.58]|      0|               0.0|\n",
      "|[44.741]|      0|               0.0|\n",
      "|[50.651]|      0|               0.0|\n",
      "|[46.462]|      0|               0.0|\n",
      "|[48.328]|      0|               0.0|\n",
      "|[54.791]|      0|               0.0|\n",
      "|[51.579]|      0|               0.0|\n",
      "| [58.04]|      0|               0.0|\n",
      "|[52.947]|      0|               0.0|\n",
      "|[59.448]|      0|               0.0|\n",
      "|[56.007]|      0|               0.0|\n",
      "|[46.388]|      0|               0.0|\n",
      "| [54.11]|      0|               0.0|\n",
      "|[42.592]|      0|               0.0|\n",
      "|[45.678]|      0|               0.0|\n",
      "|[73.952]|      1|               1.0|\n",
      "|[59.443]|      0|               0.0|\n",
      "|[48.303]|      0|               0.0|\n",
      "|[54.467]|      0|               0.0|\n",
      "|[64.164]|      0|             0.025|\n",
      "|[72.801]|      1|               1.0|\n",
      "|[71.164]|      1|               1.0|\n",
      "|[52.906]|      0|               0.0|\n",
      "|[56.867]|      0|               0.0|\n",
      "|[76.442]|      1|0.7923809523809524|\n",
      "|[42.568]|      0|               0.0|\n",
      "|[49.339]|      0|               0.0|\n",
      "| [58.42]|      0|               0.0|\n",
      "|[73.923]|      1|               1.0|\n",
      "|[51.542]|      0|               0.0|\n",
      "|[43.487]|      0|               0.0|\n",
      "|[65.554]|      1|0.6973809523809524|\n",
      "|[80.653]|      1|               1.0|\n",
      "|[78.553]|      1|               1.0|\n",
      "|[72.889]|      1|               1.0|\n",
      "|[78.782]|      1|               1.0|\n",
      "|[78.273]|      1|               1.0|\n",
      "|[74.994]|      1|               1.0|\n",
      "|[71.878]|      1|               1.0|\n",
      "|[60.916]|      0|0.2441666666666667|\n",
      "|[70.198]|      1|               1.0|\n",
      "|[72.567]|      1|               1.0|\n",
      "|[76.195]|      1|               1.0|\n",
      "|[72.899]|      1|               1.0|\n",
      "|[75.537]|      1|               1.0|\n",
      "|[71.752]|      1|               1.0|\n",
      "|[71.421]|      1|               1.0|\n",
      "|[69.819]|      1|               1.0|\n",
      "|[78.242]|      1|               1.0|\n",
      "|[76.384]|      1|0.7923809523809524|\n",
      "|[73.747]|      1|               1.0|\n",
      "|[75.635]|      1|               1.0|\n",
      "|[64.062]|      0|             0.025|\n",
      "|[64.698]|      0|0.6973809523809524|\n",
      "| [70.65]|      1|               1.0|\n",
      "|[70.964]|      1|               1.0|\n",
      "|[72.535]|      1|               1.0|\n",
      "|[77.588]|      1|               1.0|\n",
      "|[74.241]|      1|               1.0|\n",
      "|[66.803]|      1|               1.0|\n",
      "|[62.069]|      0|0.2441666666666667|\n",
      "|[63.785]|      0|             0.025|\n",
      "| [75.64]|      1|               1.0|\n",
      "|[65.483]|      1|0.6973809523809524|\n",
      "|[72.777]|      1|               1.0|\n",
      "|[79.972]|      1|               1.0|\n",
      "|[72.396]|      1|               1.0|\n",
      "|[74.143]|      1|               1.0|\n",
      "|[74.249]|      1|               1.0|\n",
      "|[73.422]|      1|               1.0|\n",
      "|[62.698]|      1|0.2441666666666667|\n",
      "|[76.423]|      0|0.7923809523809524|\n",
      "|[79.829]|      1|               1.0|\n",
      "|[79.441]|      1|               1.0|\n",
      "|[74.852]|      1|               1.0|\n",
      "|[73.005]|      1|               1.0|\n",
      "|[75.748]|      1|               1.0|\n",
      "|[76.486]|      1|               1.0|\n",
      "|[79.313]|      1|               1.0|\n",
      "|[79.406]|      1|               1.0|\n",
      "|[81.757]|      1|               1.0|\n",
      "|[80.546]|      1|               1.0|\n",
      "|[74.543]|      1|               1.0|\n",
      "|[79.762]|      1|               1.0|\n",
      "|[80.196]|      1|               1.0|\n",
      "|[75.563]|      1|               1.0|\n",
      "|[72.476]|      1|               1.0|\n",
      "|[74.002]|      1|               1.0|\n",
      "|[74.663]|      1|               1.0|\n",
      "|[80.941]|      1|               1.0|\n",
      "|[80.884]|      1|               1.0|\n",
      "|[81.701]|      1|               1.0|\n",
      "|[79.425]|      1|               1.0|\n",
      "|[80.204]|      1|               1.0|\n",
      "+--------+-------+------------------+\n",
      "\n"
     ]
    }
   ],
   "source": [
    "rf_predictions.show(100)"
   ]
  },
  {
   "cell_type": "code",
   "execution_count": 40,
   "metadata": {},
   "outputs": [
    {
     "name": "stdout",
     "output_type": "stream",
     "text": [
      "Test Error = 0.122449\n"
     ]
    }
   ],
   "source": [
    "evaluator = MulticlassClassificationEvaluator(\n",
    "        labelCol=\"Over_65\", predictionCol=\"prediction\", metricName=\"accuracy\")\n",
    "accuracy = evaluator.evaluate(rf_predictions)\n",
    "print(\"Test Error = %g\" % (1.0 - accuracy))"
   ]
  },
  {
   "cell_type": "code",
   "execution_count": 41,
   "metadata": {
    "collapsed": true
   },
   "outputs": [],
   "source": [
    "# find the cutoff value for predicting \"Over_65\"\n",
    "#\n",
    "# this part was a little surprising to me. Scikit-learn has a method for this: clf.tree_.threshold[0]\n",
    "# \n",
    "# unfortunately, looks like there isn't a method for this in SparkML? \n",
    "# you can see the tree by printing .toDebugString on your model and \n",
    "# inspecting for where a prediction value around 0.5 occurs\n",
    "# which appears to be around 63.925...\n",
    "#\n",
    "# not sure if this is really my only or best option, I've looked around \n",
    "# but haven't found a tidy api call for this..."
   ]
  },
  {
   "cell_type": "code",
   "execution_count": 42,
   "metadata": {},
   "outputs": [
    {
     "data": {
      "text/plain": [
       "'RandomForestRegressionModel (uid=RandomForestRegressor_d3e9105f539c) with 20 trees\\n  Tree 0 (weight 1.0):\\n    If (feature 0 <= 66.1785)\\n     If (feature 0 <= 60.182)\\n      Predict: 0.0\\n     Else (feature 0 > 60.182)\\n      If (feature 0 <= 63.2415)\\n       Predict: 0.3333333333333333\\n      Else (feature 0 > 63.2415)\\n       If (feature 0 <= 64.431)\\n        Predict: 0.0\\n       Else (feature 0 > 64.431)\\n        Predict: 0.3333333333333333\\n    Else (feature 0 > 66.1785)\\n     If (feature 0 <= 76.2895)\\n      Predict: 1.0\\n     Else (feature 0 > 76.2895)\\n      If (feature 0 <= 76.464)\\n       Predict: 0.8333333333333334\\n      Else (feature 0 > 76.464)\\n       Predict: 1.0\\n  Tree 1 (weight 1.0):\\n    If (feature 0 <= 64.431)\\n     Predict: 0.0\\n    Else (feature 0 > 64.431)\\n     If (feature 0 <= 66.1785)\\n      Predict: 0.7142857142857143\\n     Else (feature 0 > 66.1785)\\n      If (feature 0 <= 76.2895)\\n       Predict: 1.0\\n      Else (feature 0 > 76.2895)\\n       If (feature 0 <= 76.464)\\n        Predict: 0.7142857142857143\\n       Else (feature 0 > 76.464)\\n        Predict: 1.0\\n  Tree 2 (weight 1.0):\\n    If (feature 0 <= 60.182)\\n     Predict: 0.0\\n    Else (feature 0 > 60.182)\\n     If (feature 0 <= 66.1785)\\n      If (feature 0 <= 63.2415)\\n       Predict: 0.8333333333333334\\n      Else (feature 0 > 63.2415)\\n       If (feature 0 <= 64.431)\\n        Predict: 0.0\\n       Else (feature 0 > 64.431)\\n        Predict: 0.8\\n     Else (feature 0 > 66.1785)\\n      If (feature 0 <= 76.2895)\\n       Predict: 1.0\\n      Else (feature 0 > 76.2895)\\n       If (feature 0 <= 76.464)\\n        Predict: 0.3333333333333333\\n       Else (feature 0 > 76.464)\\n        Predict: 1.0\\n  Tree 3 (weight 1.0):\\n    If (feature 0 <= 64.431)\\n     If (feature 0 <= 60.182)\\n      Predict: 0.0\\n     Else (feature 0 > 60.182)\\n      If (feature 0 <= 63.2415)\\n       Predict: 1.0\\n      Else (feature 0 > 63.2415)\\n       Predict: 0.0\\n    Else (feature 0 > 64.431)\\n     If (feature 0 <= 76.2895)\\n      Predict: 1.0\\n     Else (feature 0 > 76.2895)\\n      If (feature 0 <= 76.464)\\n       Predict: 0.5\\n      Else (feature 0 > 76.464)\\n       Predict: 1.0\\n  Tree 4 (weight 1.0):\\n    If (feature 0 <= 64.431)\\n     Predict: 0.0\\n    Else (feature 0 > 64.431)\\n     Predict: 1.0\\n  Tree 5 (weight 1.0):\\n    If (feature 0 <= 66.1785)\\n     If (feature 0 <= 64.431)\\n      Predict: 0.0\\n     Else (feature 0 > 64.431)\\n      Predict: 0.5\\n    Else (feature 0 > 66.1785)\\n     Predict: 1.0\\n  Tree 6 (weight 1.0):\\n    If (feature 0 <= 64.431)\\n     If (feature 0 <= 60.182)\\n      Predict: 0.0\\n     Else (feature 0 > 60.182)\\n      If (feature 0 <= 63.2415)\\n       Predict: 0.6666666666666666\\n      Else (feature 0 > 63.2415)\\n       Predict: 0.0\\n    Else (feature 0 > 64.431)\\n     If (feature 0 <= 66.1785)\\n      Predict: 0.75\\n     Else (feature 0 > 66.1785)\\n      Predict: 1.0\\n  Tree 7 (weight 1.0):\\n    If (feature 0 <= 64.431)\\n     If (feature 0 <= 60.182)\\n      Predict: 0.0\\n     Else (feature 0 > 60.182)\\n      If (feature 0 <= 63.2415)\\n       Predict: 0.6\\n      Else (feature 0 > 63.2415)\\n       Predict: 0.0\\n    Else (feature 0 > 64.431)\\n     If (feature 0 <= 66.1785)\\n      Predict: 0.6\\n     Else (feature 0 > 66.1785)\\n      Predict: 1.0\\n  Tree 8 (weight 1.0):\\n    If (feature 0 <= 66.1785)\\n     If (feature 0 <= 64.431)\\n      Predict: 0.0\\n     Else (feature 0 > 64.431)\\n      Predict: 0.5\\n    Else (feature 0 > 66.1785)\\n     Predict: 1.0\\n  Tree 9 (weight 1.0):\\n    If (feature 0 <= 66.1785)\\n     If (feature 0 <= 60.182)\\n      Predict: 0.0\\n     Else (feature 0 > 60.182)\\n      Predict: 0.5\\n    Else (feature 0 > 66.1785)\\n     Predict: 1.0\\n  Tree 10 (weight 1.0):\\n    If (feature 0 <= 64.431)\\n     Predict: 0.0\\n    Else (feature 0 > 64.431)\\n     Predict: 1.0\\n  Tree 11 (weight 1.0):\\n    If (feature 0 <= 66.1785)\\n     Predict: 0.0\\n    Else (feature 0 > 66.1785)\\n     Predict: 1.0\\n  Tree 12 (weight 1.0):\\n    If (feature 0 <= 64.431)\\n     If (feature 0 <= 60.182)\\n      Predict: 0.0\\n     Else (feature 0 > 60.182)\\n      If (feature 0 <= 63.2415)\\n       Predict: 0.3333333333333333\\n      Else (feature 0 > 63.2415)\\n       Predict: 0.0\\n    Else (feature 0 > 64.431)\\n     If (feature 0 <= 76.2895)\\n      Predict: 1.0\\n     Else (feature 0 > 76.2895)\\n      If (feature 0 <= 76.464)\\n       Predict: 0.5\\n      Else (feature 0 > 76.464)\\n       Predict: 1.0\\n  Tree 13 (weight 1.0):\\n    If (feature 0 <= 64.431)\\n     Predict: 0.0\\n    Else (feature 0 > 64.431)\\n     If (feature 0 <= 76.2895)\\n      Predict: 1.0\\n     Else (feature 0 > 76.2895)\\n      If (feature 0 <= 76.464)\\n       Predict: 0.75\\n      Else (feature 0 > 76.464)\\n       Predict: 1.0\\n  Tree 14 (weight 1.0):\\n    If (feature 0 <= 64.431)\\n     If (feature 0 <= 60.182)\\n      Predict: 0.0\\n     Else (feature 0 > 60.182)\\n      If (feature 0 <= 63.2415)\\n       Predict: 0.16666666666666666\\n      Else (feature 0 > 63.2415)\\n       Predict: 0.0\\n    Else (feature 0 > 64.431)\\n     If (feature 0 <= 76.2895)\\n      Predict: 1.0\\n     Else (feature 0 > 76.2895)\\n      If (feature 0 <= 76.464)\\n       Predict: 0.8\\n      Else (feature 0 > 76.464)\\n       Predict: 1.0\\n  Tree 15 (weight 1.0):\\n    If (feature 0 <= 66.1785)\\n     Predict: 0.0\\n    Else (feature 0 > 66.1785)\\n     If (feature 0 <= 76.2895)\\n      Predict: 1.0\\n     Else (feature 0 > 76.2895)\\n      If (feature 0 <= 76.464)\\n       Predict: 0.5\\n      Else (feature 0 > 76.464)\\n       Predict: 1.0\\n  Tree 16 (weight 1.0):\\n    If (feature 0 <= 64.431)\\n     Predict: 0.0\\n    Else (feature 0 > 64.431)\\n     Predict: 1.0\\n  Tree 17 (weight 1.0):\\n    If (feature 0 <= 64.431)\\n     If (feature 0 <= 60.182)\\n      Predict: 0.0\\n     Else (feature 0 > 60.182)\\n      If (feature 0 <= 63.2415)\\n       Predict: 0.25\\n      Else (feature 0 > 63.2415)\\n       Predict: 0.0\\n    Else (feature 0 > 64.431)\\n     Predict: 1.0\\n  Tree 18 (weight 1.0):\\n    If (feature 0 <= 64.431)\\n     Predict: 0.0\\n    Else (feature 0 > 64.431)\\n     If (feature 0 <= 76.2895)\\n      Predict: 1.0\\n     Else (feature 0 > 76.2895)\\n      If (feature 0 <= 76.464)\\n       Predict: 0.25\\n      Else (feature 0 > 76.464)\\n       Predict: 1.0\\n  Tree 19 (weight 1.0):\\n    If (feature 0 <= 66.1785)\\n     If (feature 0 <= 60.182)\\n      Predict: 0.0\\n     Else (feature 0 > 60.182)\\n      If (feature 0 <= 64.431)\\n       If (feature 0 <= 63.2415)\\n        Predict: 0.2\\n       Else (feature 0 > 63.2415)\\n        Predict: 0.0\\n      Else (feature 0 > 64.431)\\n       Predict: 0.25\\n    Else (feature 0 > 66.1785)\\n     If (feature 0 <= 76.2895)\\n      Predict: 1.0\\n     Else (feature 0 > 76.2895)\\n      If (feature 0 <= 76.464)\\n       Predict: 0.6666666666666666\\n      Else (feature 0 > 76.464)\\n       Predict: 1.0\\n'"
      ]
     },
     "execution_count": 42,
     "metadata": {},
     "output_type": "execute_result"
    }
   ],
   "source": [
    "rf_model.toDebugString"
   ]
  },
  {
   "cell_type": "code",
   "execution_count": 43,
   "metadata": {
    "collapsed": true
   },
   "outputs": [],
   "source": [
    "# try logistic regression\n",
    "from pyspark.ml.classification import LogisticRegression"
   ]
  },
  {
   "cell_type": "code",
   "execution_count": 44,
   "metadata": {
    "collapsed": true
   },
   "outputs": [],
   "source": [
    "lr = LogisticRegression(maxIter=10, regParam=0.3, elasticNetParam=0.8,featuresCol=\"features\", labelCol=\"Over_65\",)"
   ]
  },
  {
   "cell_type": "code",
   "execution_count": 45,
   "metadata": {
    "collapsed": true
   },
   "outputs": [],
   "source": [
    "lrModel = lr.fit(va_training)"
   ]
  },
  {
   "cell_type": "code",
   "execution_count": 46,
   "metadata": {},
   "outputs": [
    {
     "data": {
      "text/plain": [
       "-2.926721349569394"
      ]
     },
     "execution_count": 46,
     "metadata": {},
     "output_type": "execute_result"
    }
   ],
   "source": [
    "lrModel.intercept"
   ]
  },
  {
   "cell_type": "code",
   "execution_count": 47,
   "metadata": {},
   "outputs": [
    {
     "data": {
      "text/plain": [
       "[0.6517565611726542,\n",
       " 0.6497899965720552,\n",
       " 0.6496749082437917,\n",
       " 0.6484195485613644,\n",
       " 0.6449890163146406,\n",
       " 0.6343521971926331,\n",
       " 0.5982086773774155,\n",
       " 0.5981287998891636,\n",
       " 0.5981286764154597,\n",
       " 0.5981282149744938,\n",
       " 0.5981282134588519]"
      ]
     },
     "execution_count": 47,
     "metadata": {},
     "output_type": "execute_result"
    }
   ],
   "source": [
    "lrModel.summary.objectiveHistory"
   ]
  },
  {
   "cell_type": "code",
   "execution_count": 48,
   "metadata": {},
   "outputs": [
    {
     "name": "stdout",
     "output_type": "stream",
     "text": [
      "Coefficients: [0.05272353574758242]\n",
      "Intercept: -2.926721349569394\n",
      "numIterations: 11\n",
      "objectiveHistory: [0.6517565611726542, 0.6497899965720552, 0.6496749082437917, 0.6484195485613644, 0.6449890163146406, 0.6343521971926331, 0.5982086773774155, 0.5981287998891636, 0.5981286764154597, 0.5981282149744938, 0.5981282134588519]\n"
     ]
    }
   ],
   "source": [
    "print(\"Coefficients: %s\" % str(lrModel.coefficients))\n",
    "print(\"Intercept: %s\" % str(lrModel.intercept))\n",
    "\n",
    "# Summarize the model over the training set and print out some metrics\n",
    "trainingSummary = lrModel.summary\n",
    "print(\"numIterations: %d\" % trainingSummary.totalIterations)\n",
    "print(\"objectiveHistory: %s\" % str(trainingSummary.objectiveHistory))"
   ]
  },
  {
   "cell_type": "code",
   "execution_count": 49,
   "metadata": {},
   "outputs": [
    {
     "name": "stdout",
     "output_type": "stream",
     "text": [
      "+---------+--------------------+--------------+--------------+--------------+--------------+--------------+--------------+--------------+--------------+--------------+--------------+--------------+--------------+------------+------------+------------+------------+------------+------------+------------+------------+------------+------------+------------+------------+-----------+--------+--------+--------+--------+--------+--------+--------+--------+--------+---------+---------+-------+--------+\n",
      "|continent|             country|gdpPercap_1952|gdpPercap_1957|gdpPercap_1962|gdpPercap_1967|gdpPercap_1972|gdpPercap_1977|gdpPercap_1982|gdpPercap_1987|gdpPercap_1992|gdpPercap_1997|gdpPercap_2002|gdpPercap_2007|lifeExp_1952|lifeExp_1957|lifeExp_1962|lifeExp_1967|lifeExp_1972|lifeExp_1977|lifeExp_1982|lifeExp_1987|lifeExp_1992|lifeExp_1997|lifeExp_2002|lifeExp_2007|   pop_1952|pop_1957|pop_1962|pop_1967|pop_1972|pop_1977|pop_1982|pop_1987|pop_1992|pop_1997| pop_2002| pop_2007|Over_65|features|\n",
      "+---------+--------------------+--------------+--------------+--------------+--------------+--------------+--------------+--------------+--------------+--------------+--------------+--------------+--------------+------------+------------+------------+------------+------------+------------+------------+------------+------------+------------+------------+------------+-----------+--------+--------+--------+--------+--------+--------+--------+--------+--------+---------+---------+-------+--------+\n",
      "|   Africa|             Algeria|   2449.008185|   3013.976023|    2550.81688|   3246.991771|   4182.663766|   4910.416756|   5745.160213|   5681.358539|   5023.216647|   4797.295051|   5288.040382|   6223.367465|      43.077|      45.685|      48.303|      51.407|      54.518|      58.014|      61.368|      65.799|      67.744|      69.152|      70.994|      72.301|  9279525.0|10270856|11000948|12760499|14760787|17152804|20033753|23254956|26298373|29072015| 31287142| 33333216|      1|[72.301]|\n",
      "|   Africa|              Angola|   3520.610273|   3827.940465|   4269.276742|   5522.776375|   5473.288005|   3008.647355|   2756.953672|   2430.208311|   2627.845685|   2277.140884|   2773.287312|   4797.231267|      30.015|      31.999|        34.0|      35.985|      37.928|      39.483|      39.942|      39.906|      40.647|      40.963|      41.003|      42.731|  4232095.0| 4561361| 4826015| 5247469| 5894858| 6162675| 7016384| 7874230| 8735988| 9875024| 10866106| 12420476|      0|[42.731]|\n",
      "|   Africa|               Benin|     1062.7522|   959.6010805|   949.4990641|   1035.831411|   1085.796879|   1029.161251|   1277.897616|    1225.85601|   1191.207681|   1232.975292|   1372.877931|   1441.284873|      38.223|      40.358|      42.618|      44.885|      47.014|       49.19|      50.904|      52.337|      53.919|      54.777|      54.406|      56.728|  1738315.0| 1925173| 2151895| 2427334| 2761407| 3168267| 3641603| 4243788| 4981671| 6066080|  7026113|  8078314|      0|[56.728]|\n",
      "|   Africa|            Botswana|   851.2411407|   918.2325349|   983.6539764|   1214.709294|   2263.611114|   3214.857818|    4551.14215|    6205.88385|   7954.111645|   8647.142313|   11003.60508|   12569.85177|      47.622|      49.618|       51.52|      53.298|      56.024|      59.319|      61.484|      63.622|      62.745|      52.556|      46.634|      50.728|   442308.0|  474639|  512764|  553541|  619351|  781472|  970347| 1151184| 1342614| 1536536|  1630347|  1639131|      0|[50.728]|\n",
      "|   Africa|             Burundi|   339.2964587|   379.5646281|   355.2032273|   412.9775136|   464.0995039|   556.1032651|    559.603231|   621.8188189|   631.6998778|   463.1151478|   446.4035126|   430.0706916|      39.031|      40.533|      42.045|      43.548|      44.057|       45.91|      47.471|      48.211|      44.736|      45.326|       47.36|       49.58|  2445618.0| 2667518| 2961915| 3330989| 3529983| 3834415| 4580410| 5126023| 5809236| 6121610|  7021078|  8390505|      0| [49.58]|\n",
      "|   Africa|Central African R...|   1071.310713|   1190.844328|   1193.068753|   1136.056615|   1070.013275|   1109.374338|   956.7529907|   844.8763504|   747.9055252|   740.5063317|   738.6906068|    706.016537|      35.463|      37.464|      39.475|      41.478|      43.457|      46.775|      48.295|      50.485|      49.396|      46.066|      43.308|      44.741|  1291695.0| 1392284| 1523478| 1733638| 1927260| 2167533| 2476971| 2840009| 3265124| 3696513|  4048013|  4369038|      0|[44.741]|\n",
      "|   Africa|                Chad|   1178.665927|   1308.495577|   1389.817618|   1196.810565|   1104.103987|    1133.98495|   797.9081006|    952.386129|     1058.0643|   1004.961353|    1156.18186|   1704.063724|      38.092|      39.881|      41.716|      43.601|      45.569|      47.383|      49.517|      51.051|      51.724|      51.573|      50.525|      50.651|  2682462.0| 2894855| 3150417| 3495967| 3899068| 4388260| 4875118| 5498955| 6429417| 7562011|  8835739| 10238807|      0|[50.651]|\n",
      "|   Africa|     Congo Dem. Rep.|   780.5423257|   905.8602303|   896.3146335|   861.5932424|   904.8960685|    795.757282|   673.7478181|    672.774812|   457.7191807|    312.188423|   241.1658765|   277.5518587|      39.143|      40.652|      42.122|      44.056|      45.989|      47.804|      47.784|      47.412|      45.548|      42.587|      44.966|      46.462|1.4100005E7|15577932|17486434|19941073|23007669|26480870|30646495|35481645|41672143|47798986| 55379852| 64606759|      0|[46.462]|\n",
      "|   Africa|       Cote d'Ivoire|   1388.594732|   1500.895925|   1728.869428|   2052.050473|   2378.201111|   2517.736547|   2602.710169|   2156.956069|   1648.073791|   1786.265407|   1648.800823|   1544.750112|      40.477|      42.469|       44.93|       47.35|      49.801|      52.374|      53.983|      54.655|      52.044|      47.991|      46.832|      48.328|  2977019.0| 3300000| 3832408| 4744870| 6071696| 7459574| 9025951|10761098|12772596|14625967| 16252726| 18013409|      0|[48.328]|\n",
      "|   Africa|            Djibouti|   2669.529475|   2864.969076|   3020.989263|   3020.050513|   3694.212352|   3081.761022|   2879.468067|   2880.102568|   2377.156192|   1895.016984|   1908.260867|   2082.481567|      34.812|      37.328|      39.693|      42.074|      44.366|      46.519|      48.812|       50.04|      51.604|      53.157|      53.373|      54.791|    63149.0|   71851|   89898|  127617|  178848|  228694|  305991|  311025|  384156|  417908|   447416|   496374|      0|[54.791]|\n",
      "|   Africa|   Equatorial Guinea|   375.6431231|   426.0964081|   582.8419714|   915.5960025|   672.4122571|   958.5668124|   927.8253427|   966.8968149|   1132.055034|   2814.480755|     7703.4959|   12154.08975|      34.482|      35.983|      37.485|      38.987|      40.516|      42.024|      43.662|      45.664|      47.545|      48.245|      49.348|      51.579|   216964.0|  232922|  249220|  259864|  277603|  192675|  285483|  341244|  387838|  439971|   495627|   551201|      0|[51.579]|\n",
      "|   Africa|             Eritrea|   328.9405571|   344.1618859|   380.9958433|   468.7949699|   514.3242082|   505.7538077|   524.8758493|   521.1341333|   582.8585102|     913.47079|   765.3500015|   641.3695236|      35.928|      38.047|      40.158|      42.189|      44.142|      44.535|       43.89|      46.453|      49.991|      53.378|       55.24|       58.04|  1438760.0| 1542611| 1666618| 1820319| 2260187| 2512642| 2637297| 2915959| 3668440| 4058319|  4414865|  4906585|      0| [58.04]|\n",
      "|   Africa|            Ethiopia|   362.1462796|   378.9041632|   419.4564161|   516.1186438|   566.2439442|   556.8083834|   577.8607471|   573.7413142|   421.3534653|   515.8894013|   530.0535319|   690.8055759|      34.078|      36.667|      40.059|      42.115|      43.515|       44.51|      44.916|      46.684|      48.091|      49.402|      50.725|      52.947|2.0860941E7|22815614|25145372|27860297|30770372|34617799|38111756|42999530|52088559|59861301| 67946797| 76511887|      0|[52.947]|\n",
      "|   Africa|              Gambia|   485.2306591|   520.9267111|    599.650276|   734.7829124|   756.0868363|   884.7552507|   835.8096108|   611.6588611|   665.6244126|   653.7301704|   660.5855997|   752.7497265|        30.0|      32.065|      33.896|      35.857|      38.308|      41.842|       45.58|      49.265|      52.644|      55.861|      58.041|      59.448|   284320.0|  323150|  374020|  439593|  517101|  608274|  715523|  848406| 1025384| 1235767|  1457766|  1688359|      0|[59.448]|\n",
      "|   Africa|              Guinea|   510.1964923|   576.2670245|   686.3736739|   708.7595409|   741.6662307|   874.6858643|   857.2503577|   805.5724718|   794.3484384|   869.4497668|   945.5835837|   942.6542111|      33.609|      34.558|      35.753|      37.197|      38.842|      40.762|      42.891|      45.552|      48.576|      51.455|      53.676|      56.007|  2664249.0| 2876726| 3140003| 3451418| 3811387| 4227026| 4710497| 5650262| 6990574| 8048834|  8807818|  9947814|      0|[56.007]|\n",
      "|   Africa|       Guinea-Bissau|    299.850319|   431.7904566|   522.0343725|   715.5806402|   820.2245876|   764.7259628|   838.1239671|   736.4153921|   745.5398706|   796.6644681|   575.7047176|    579.231743|        32.5|      33.489|      34.488|      35.492|      36.486|      37.465|      39.327|      41.245|      43.266|      44.873|      45.504|      46.388|   580653.0|  601095|  627820|  601287|  625361|  745228|  825987|  927524| 1050938| 1193708|  1332459|  1472041|      0|[46.388]|\n",
      "|   Africa|               Kenya|    853.540919|   944.4383152|   896.9663732|   1056.736457|   1222.359968|   1267.613204|   1348.225791|   1361.936856|   1341.921721|   1360.485021|   1287.514732|   1463.249282|       42.27|      44.686|      47.949|      50.654|      53.559|      56.155|      58.766|      59.339|      59.285|      54.407|      50.992|       54.11|  6464046.0| 7454779| 8678557|10191512|12044785|14500404|17661452|21198082|25020539|28263827| 31386842| 35610177|      0| [54.11]|\n",
      "|   Africa|             Lesotho|   298.8462121|   335.9971151|   411.8006266|   498.6390265|   496.5815922|   745.3695408|   797.2631074|   773.9932141|   977.4862725|   1186.147994|   1275.184575|   1569.331442|      42.138|      45.047|      47.747|      48.492|      49.767|      52.208|      55.078|       57.18|      59.685|      55.558|      44.593|      42.592|   748747.0|  813338|  893143|  996380| 1116779| 1251524| 1411807| 1599200| 1803195| 1982823|  2046772|  2012649|      0|[42.592]|\n",
      "|   Africa|             Liberia|   575.5729961|   620.9699901|   634.1951625|   713.6036483|   803.0054535|   640.3224383|   572.1995694|   506.1138573|   636.6229191|   609.1739508|   531.4823679|   414.5073415|       38.48|      39.486|      40.502|      41.536|      42.614|      43.764|      44.852|      46.027|      40.802|      42.221|      43.753|      45.678|   863308.0|  975950| 1112796| 1279406| 1482628| 1703617| 1956875| 2269414| 1912974| 2200725|  2814651|  3193942|      0|[45.678]|\n",
      "|   Africa|               Libya|    2387.54806|   3448.284395|   6757.030816|   18772.75169|   21011.49721|   21951.21176|   17364.27538|    11770.5898|   9640.138501|   9467.446056|   9534.677467|   12057.49928|      42.723|      45.289|      47.808|      50.227|      52.773|      57.442|      62.155|      66.234|      68.755|      71.555|      72.737|      73.952|  1019729.0| 1201578| 1441863| 1759224| 2183877| 2721783| 3344074| 3799845| 4364501| 4759670|  5368585|  6036914|      1|[73.952]|\n",
      "|   Africa|          Madagascar|   1443.011715|    1589.20275|    1643.38711|   1634.047282|   1748.562982|   1544.228586|   1302.878658|   1155.441948|    1040.67619|   986.2958956|   894.6370822|   1044.770126|      36.681|      38.865|      40.848|      42.881|      44.851|      46.881|      48.969|       49.35|      52.214|      54.978|      57.286|      59.443|  4762912.0| 5181679| 5703324| 6334556| 7082430| 8007166| 9171477|10568642|12210395|14165114| 16473477| 19167654|      0|[59.443]|\n",
      "|   Africa|              Malawi|   369.1650802|   416.3698064|   427.9010856|   495.5147806|   584.6219709|   663.2236766|   632.8039209|   635.5173634|   563.2000145|   692.2758103|   665.4231186|   759.3499101|      36.256|      37.207|       38.41|      39.487|      41.766|      43.767|      45.642|      47.457|       49.42|      47.495|      45.009|      48.303|  2917802.0| 3221238| 3628608| 4147252| 4730997| 5637246| 6502825| 7824747|10014249|10419991| 11824495| 13327079|      0|[48.303]|\n",
      "|   Africa|                Mali|   452.3369807|   490.3821867|   496.1743428|   545.0098873|   581.3688761|   686.3952693|   618.0140641|   684.1715576|    739.014375|   790.2579846|   951.4097518|   1042.581557|      33.685|      35.307|      36.936|      38.487|      39.977|      41.714|      43.916|      46.364|      48.388|      49.903|      51.818|      54.467|  3838168.0| 4241884| 4690372| 5212416| 5828158| 6491649| 6998256| 7634008| 8416215| 9384984| 10580176| 12031795|      0|[54.467]|\n",
      "|   Africa|          Mauritania|   743.1159097|   846.1202613|   1055.896036|   1421.145193|   1586.851781|   1497.492223|   1481.150189|   1421.603576|   1361.369784|   1483.136136|   1579.019543|   1803.151496|      40.543|      42.338|      44.248|      46.289|      48.437|      50.852|      53.599|      56.145|      58.333|       60.43|      62.247|      64.164|  1022556.0| 1076852| 1146757| 1230542| 1332786| 1456688| 1622136| 1841240| 2119465| 2444741|  2828858|  3270065|      0|[64.164]|\n",
      "|   Africa|           Mauritius|   1967.955707|   2034.037981|   2529.067487|   2475.387562|   2575.484158|   3710.982963|   3688.037739|   4783.586903|   6058.253846|   7425.705295|   9021.815894|   10956.99112|      50.986|      58.089|      60.246|      61.557|      62.944|       64.93|      66.711|       68.74|      69.745|      70.736|      71.954|      72.801|   516556.0|  609816|  701016|  789309|  851334|  913025|  992040| 1042663| 1096202| 1149818|  1200206|  1250882|      1|[72.801]|\n",
      "|   Africa|             Morocco|    1688.20357|   1642.002314|   1566.353493|    1711.04477|   1930.194975|   2370.619976|   2702.620356|   2755.046991|   2948.047252|   2982.101858|   3258.495584|    3820.17523|      42.873|      45.423|      47.924|      50.335|      52.862|       55.73|       59.65|      62.677|      65.393|       67.66|      69.615|      71.164|  9939217.0|11406350|13056604|14770296|16660670|18396941|20198730|22987397|25798239|28529501| 31167783| 33757175|      1|[71.164]|\n",
      "|   Africa|             Namibia|   2423.780443|   2621.448058|   3173.215595|   3793.694753|   3746.080948|   3876.485958|   4191.100511|   3693.731337|   3804.537999|    3899.52426|   4072.324751|   4811.060429|      41.725|      45.226|      48.386|      51.159|      53.867|      56.437|      58.968|      60.835|      61.999|      58.909|      51.479|      52.906|   485831.0|  548080|  621392|  706640|  821782|  977026| 1099010| 1278184| 1554253| 1774766|  1972153|  2055080|      0|[52.906]|\n",
      "|   Africa|               Niger|    761.879376|   835.5234025|   997.7661127|   1054.384891|   954.2092363|   808.8970728|   909.7221354|   668.3000228|    581.182725|   580.3052092|   601.0745012|   619.6768924|      37.444|      38.598|      39.487|      40.118|      40.546|      41.291|      42.598|      44.555|      47.391|      51.313|      54.496|      56.867|  3379468.0| 3692184| 4076008| 4534062| 5060262| 5682086| 6437188| 7332638| 8392818| 9666252| 11140655| 12894865|      0|[56.867]|\n",
      "|   Africa|             Reunion|   2718.885295|   2769.451844|    3173.72334|   4021.175739|   5047.658563|   4319.804067|   5267.219353|   5303.377488|   6101.255823|   6071.941411|     6316.1652|   7670.122558|      52.724|       55.09|      57.666|      60.542|      64.274|      67.064|      69.885|      71.913|      73.615|      74.772|      75.744|      76.442|   257700.0|  308700|  358900|  414024|  461633|  492095|  517810|  562035|  622191|  684810|   743981|   798094|      1|[76.442]|\n",
      "|   Africa|        Sierra Leone|   879.7877358|   1004.484437|   1116.639877|   1206.043465|   1353.759762|   1348.285159|   1465.010784|   1294.447788|   1068.696278|   574.6481576|    699.489713|   862.5407561|      30.331|       31.57|      32.767|      34.113|        35.4|      36.788|      38.445|      40.006|      38.333|      39.897|      41.012|      42.568|  2143249.0| 2295678| 2467895| 2662190| 2879013| 3140897| 3464522| 3868905| 4260884| 4578212|  5359092|  6144562|      0|[42.568]|\n",
      "|   Africa|        South Africa|   4725.295531|   5487.104219|   5768.729717|   7114.477971|   7765.962636|   8028.651439|   8568.266228|   7825.823398|   7225.069258|   7479.188244|   7710.946444|   9269.657808|      45.009|      47.985|      49.951|      51.927|      53.696|      55.527|      58.161|      60.834|      61.888|      60.236|      53.365|      49.339|1.4264935E7|16151549|18356657|20997321|23935810|27129932|31140029|35933379|39964159|42835005| 44433622| 43997828|      0|[49.339]|\n",
      "|   Africa|                Togo|   859.8086567|   925.9083202|    1067.53481|    1477.59676|   1649.660188|   1532.776998|   1344.577953|   1202.201361|   1034.298904|   982.2869243|   886.2205765|   882.9699438|      38.596|      41.208|      43.922|      46.769|      49.759|      52.887|      55.471|      56.941|      58.061|       58.39|      57.561|       58.42|  1219113.0| 1357445| 1528098| 1735550| 2056351| 2308582| 2644765| 3154264| 3747553| 4320890|  4977378|  5701579|      0| [58.42]|\n",
      "|   Africa|             Tunisia|   1468.475631|   1395.232468|    1660.30321|   1932.360167|   2753.285994|   3120.876811|   3560.233174|   3810.419296|   4332.720164|   4876.798614|   5722.895655|   7092.923025|        44.6|        47.1|      49.579|      52.053|      55.602|      59.837|      64.048|      66.894|      70.001|      71.973|      73.042|      73.923|  3647735.0| 3950849| 4286552| 4786986| 5303507| 6005061| 6734098| 7724976| 8523077| 9231669|  9770575| 10276158|      1|[73.923]|\n",
      "|   Africa|              Uganda|    734.753484|   774.3710692|   767.2717398|   908.9185217|    950.735869|   843.7331372|   682.2662268|   617.7244065|   644.1707969|    816.559081|   927.7210018|   1056.380121|      39.978|      42.571|      45.344|      48.051|      51.016|       50.35|      49.849|      51.509|      48.825|      44.578|      47.813|      51.542|  5824797.0| 6675501| 7688797| 8900294|10190285|11457758|12939400|15283050|18252190|21210254| 24739869| 29170398|      0|[51.542]|\n",
      "|   Africa|            Zimbabwe|   406.8841148|   518.7642681|   527.2721818|   569.7950712|   799.3621758|   685.5876821|   788.8550411|   706.1573059|   693.4207856|   792.4499603|   672.0386227|   469.7092981|      48.451|      50.469|      52.358|      53.995|      55.635|      57.674|      60.363|      62.351|      60.377|      46.809|      39.989|      43.487|  3080907.0| 3646340| 4277736| 4995432| 5861135| 6642107| 7636524| 9216418|10704340|11404948| 11926563| 12311143|      0|[43.487]|\n",
      "| Americas|             Bolivia|   2677.326347|   2127.686326|   2180.972546|   2586.886053|   2980.331339|   3548.097832|   3156.510452|    2753.69149|   2961.699694|   3326.143191|    3413.26269|   3822.137084|      40.414|       41.89|      43.428|      45.032|      46.714|      50.023|      53.859|      57.251|      59.957|       62.05|      63.883|      65.554|  2883315.0| 3211738| 3593918| 4040665| 4565872| 5079716| 5642224| 6156369| 6893451| 7693188|  8445134|  9119152|      1|[65.554]|\n",
      "| Americas|              Canada|   11367.16112|   12489.95006|   13462.48555|   16076.58803|   18970.57086|   22090.88306|   22898.79214|   26626.51503|   26342.88426|   28954.92589|   33328.96507|   36319.23501|       68.75|       69.96|        71.3|       72.13|       72.88|       74.21|       75.76|       76.86|       77.95|       78.61|       79.77|      80.653|1.4785584E7|17010154|18985849|20819767|22284500|23796400|25201900|26549700|28523502|30305843| 31902268| 33390141|      1|[80.653]|\n",
      "| Americas|               Chile|   3939.978789|   4315.622723|   4519.094331|   5106.654313|   5494.024437|   4756.763836|   5095.665738|   5547.063754|   7596.125964|   10118.05318|   10778.78385|   13171.63885|      54.745|      56.074|      57.924|      60.523|      63.441|      67.052|      70.565|      72.492|      74.126|      75.816|       77.86|      78.553|  6377619.0| 7048426| 7961258| 8858908| 9717524|10599793|11487112|12463354|13572994|14599929| 15497046| 16284741|      1|[78.553]|\n",
      "| Americas|            Colombia|   2144.115096|   2323.805581|   2492.351109|   2678.729839|   3264.660041|    3815.80787|   4397.575659|     4903.2191|   5444.648617|   6117.361746|   5755.259962|   7006.580419|      50.643|      55.118|      57.863|      59.963|      61.623|      63.837|      66.653|      67.768|      68.421|      70.313|      71.682|      72.889|1.2350771E7|14485993|17009885|19764027|22542890|25094412|27764644|30964245|34202721|37657830| 41008227| 44227550|      1|[72.889]|\n",
      "| Americas|          Costa Rica|   2627.009471|   2990.010802|   3460.937025|   4161.727834|   5118.146939|   5926.876967|   5262.734751|   5629.915318|   6160.416317|   6677.045314|   7723.447195|    9645.06142|      57.206|      60.026|      62.842|      65.424|      67.849|       70.75|       73.45|      74.752|      75.713|       77.26|      78.123|      78.782|   926317.0| 1112300| 1345187| 1588717| 1834796| 2108457| 2424367| 2799811| 3173216| 3518107|  3834934|  4133884|      1|[78.782]|\n",
      "| Americas|                Cuba|    5586.53878|   6092.174359|    5180.75591|   5690.268015|   5305.445256|   6380.494966|   7316.918107|   7532.924763|   5592.843963|   5431.990415|   6340.646683|   8948.102923|      59.421|      62.325|      65.246|       68.29|      70.723|      72.649|      73.717|      74.174|      74.414|      76.151|      77.158|      78.273|  6007797.0| 6640752| 7254373| 8139332| 8831348| 9537988| 9789224|10239839|10723260|10983007| 11226999| 11416987|      1|[78.273]|\n",
      "| Americas|             Ecuador|   3522.110717|   3780.546651|   4086.114078|   4579.074215|    5280.99471|    6679.62326|   7213.791267|   6481.776993|   7103.702595|   7429.455877|   5773.044512|   6873.262326|      48.357|      51.356|       54.64|      56.678|      58.796|       61.31|      64.342|      67.231|      69.613|      72.312|      74.173|      74.994|  3548753.0| 4058385| 4681707| 5432424| 6298651| 7278866| 8365850| 9545158|10748394|11911819| 12921234| 13755680|      1|[74.994]|\n",
      "| Americas|         El Salvador|     3048.3029|   3421.523218|   3776.803627|   4358.595393|   4520.246008|   5138.922374|   4098.344175|   4140.442097|     4444.2317|   5154.825496|   5351.568666|   5728.353514|      45.262|       48.57|      52.307|      55.855|      58.207|      56.696|      56.604|      63.154|      66.798|      69.535|      70.734|      71.878|  2042865.0| 2355805| 2747687| 3232927| 3790903| 4282586| 4474873| 4842194| 5274649| 5783439|  6353681|  6939688|      1|[71.878]|\n",
      "| Americas|               Haiti|   1840.366939|   1726.887882|   1796.589032|   1452.057666|   1654.456946|   1874.298931|   2011.159549|   1823.015995|   1456.309517|   1341.726931|   1270.364932|   1201.637154|      37.579|      40.696|       43.59|      46.243|      48.042|      49.923|      51.461|      53.636|      55.089|      56.671|      58.137|      60.916|  3201488.0| 3507701| 3880130| 4318137| 4698301| 4908554| 5198399| 5756203| 6326682| 6913545|  7607651|  8502814|      0|[60.916]|\n",
      "| Americas|            Honduras|   2194.926204|   2220.487682|   2291.156835|   2538.269358|   2529.842345|   3203.208066|   3121.760794|   3023.096699|   3081.694603|   3160.454906|    3099.72866|   3548.330846|      41.912|      44.665|      48.041|      50.924|      53.884|      57.402|      60.909|      64.492|      66.399|      67.659|      68.565|      70.198|  1517453.0| 1770390| 2090162| 2500689| 2965146| 3055235| 3669448| 4372203| 5077347| 5867957|  6677328|  7483763|      1|[70.198]|\n",
      "| Americas|             Jamaica|   2898.530881|   4756.525781|   5246.107524|   6124.703451|   7433.889293|   6650.195573|    6068.05135|   6351.237495|   7404.923685|   7121.924704|   6994.774861|   7320.880262|       58.53|       62.61|       65.61|       67.51|        69.0|       70.11|       71.21|       71.77|      71.766|      72.262|      72.047|      72.567|  1426095.0| 1535090| 1665128| 1861096| 1997616| 2156814| 2298309| 2326606| 2378618| 2531311|  2664659|  2780132|      1|[72.567]|\n",
      "| Americas|              Mexico|   3478.125529|   4131.546641|   4581.609385|   5754.733883|    6809.40669|   7674.929108|   9611.147541|   8688.156003|   9472.384295|    9767.29753|   10742.44053|   11977.57496|      50.789|       55.19|      58.299|       60.11|      62.361|      65.032|      67.405|      69.498|      71.455|       73.67|      74.902|      76.195|3.0144317E7|35015548|41121485|47995559|55984294|63759976|71640904|80122492|88111030|95895146|102479927|108700891|      1|[76.195]|\n",
      "| Americas|           Nicaragua|   3112.363948|   3457.415947|   3634.364406|   4643.393534|   4688.593267|   5486.371089|   3470.338156|   2955.984375|   2170.151724|   2253.023004|   2474.548819|   2749.320965|      42.314|      45.432|      48.632|      51.884|      55.151|       57.47|      59.298|      62.008|      65.843|      68.426|      70.836|      72.899|  1165790.0| 1358828| 1590597| 1865490| 2182908| 2554598| 2979423| 3344353| 4017939| 4609572|  5146848|  5675356|      1|[72.899]|\n",
      "| Americas|              Panama|   2480.380334|   2961.800905|   3536.540301|   4421.009084|   5364.249663|   5351.912144|   7009.601598|   7034.779161|    6618.74305|   7113.692252|   7356.031934|   9809.185636|      55.191|      59.201|      61.817|      64.071|      66.216|      68.681|      70.472|      71.523|      72.462|      73.738|      74.712|      75.537|   940080.0| 1063506| 1215725| 1405486| 1616384| 1839782| 2036305| 2253639| 2484997| 2734531|  2990875|  3242173|      1|[75.537]|\n",
      "| Americas|            Paraguay|   1952.308701|   2046.154706|   2148.027146|   2299.376311|   2523.337977|   3248.373311|   4258.503604|   3998.875695|   4196.411078|   4247.400261|   3783.674243|   4172.838464|      62.649|      63.196|      64.361|      64.951|      65.815|      66.353|      66.874|      67.378|      68.225|        69.4|      70.755|      71.752|  1555876.0| 1770902| 2009813| 2287985| 2614104| 2984494| 3366439| 3886512| 4483945| 5154123|  5884491|  6667147|      1|[71.752]|\n",
      "+---------+--------------------+--------------+--------------+--------------+--------------+--------------+--------------+--------------+--------------+--------------+--------------+--------------+--------------+------------+------------+------------+------------+------------+------------+------------+------------+------------+------------+------------+------------+-----------+--------+--------+--------+--------+--------+--------+--------+--------+--------+---------+---------+-------+--------+\n",
      "only showing top 50 rows\n",
      "\n"
     ]
    }
   ],
   "source": [
    "vectorAssembler = VectorAssembler(inputCols = ['lifeExp_2007'], outputCol = 'features')\n",
    "va_training = vectorAssembler.transform(trainingData)\n",
    "v_traininga = va_training.select(['features', 'Over_65'])\n",
    "va_training.show(50)"
   ]
  },
  {
   "cell_type": "code",
   "execution_count": 51,
   "metadata": {
    "collapsed": true
   },
   "outputs": [],
   "source": [
    "predictions = rf_model.transform(va_testing)"
   ]
  },
  {
   "cell_type": "code",
   "execution_count": 52,
   "metadata": {},
   "outputs": [
    {
     "name": "stdout",
     "output_type": "stream",
     "text": [
      "+--------+-------+------------------+\n",
      "|features|Over_65|        prediction|\n",
      "+--------+-------+------------------+\n",
      "|[72.301]|      1|               1.0|\n",
      "|[42.731]|      0|               0.0|\n",
      "|[56.728]|      0|               0.0|\n",
      "|[50.728]|      0|               0.0|\n",
      "| [49.58]|      0|               0.0|\n",
      "|[44.741]|      0|               0.0|\n",
      "|[50.651]|      0|               0.0|\n",
      "|[46.462]|      0|               0.0|\n",
      "|[48.328]|      0|               0.0|\n",
      "|[54.791]|      0|               0.0|\n",
      "|[51.579]|      0|               0.0|\n",
      "| [58.04]|      0|               0.0|\n",
      "|[52.947]|      0|               0.0|\n",
      "|[59.448]|      0|               0.0|\n",
      "|[56.007]|      0|               0.0|\n",
      "|[46.388]|      0|               0.0|\n",
      "| [54.11]|      0|               0.0|\n",
      "|[42.592]|      0|               0.0|\n",
      "|[45.678]|      0|               0.0|\n",
      "|[73.952]|      1|               1.0|\n",
      "|[59.443]|      0|               0.0|\n",
      "|[48.303]|      0|               0.0|\n",
      "|[54.467]|      0|               0.0|\n",
      "|[64.164]|      0|             0.025|\n",
      "|[72.801]|      1|               1.0|\n",
      "|[71.164]|      1|               1.0|\n",
      "|[52.906]|      0|               0.0|\n",
      "|[56.867]|      0|               0.0|\n",
      "|[76.442]|      1|0.7923809523809524|\n",
      "|[42.568]|      0|               0.0|\n",
      "|[49.339]|      0|               0.0|\n",
      "| [58.42]|      0|               0.0|\n",
      "|[73.923]|      1|               1.0|\n",
      "|[51.542]|      0|               0.0|\n",
      "|[43.487]|      0|               0.0|\n",
      "|[65.554]|      1|0.6973809523809524|\n",
      "|[80.653]|      1|               1.0|\n",
      "|[78.553]|      1|               1.0|\n",
      "|[72.889]|      1|               1.0|\n",
      "|[78.782]|      1|               1.0|\n",
      "|[78.273]|      1|               1.0|\n",
      "|[74.994]|      1|               1.0|\n",
      "|[71.878]|      1|               1.0|\n",
      "|[60.916]|      0|0.2441666666666667|\n",
      "|[70.198]|      1|               1.0|\n",
      "|[72.567]|      1|               1.0|\n",
      "|[76.195]|      1|               1.0|\n",
      "|[72.899]|      1|               1.0|\n",
      "|[75.537]|      1|               1.0|\n",
      "|[71.752]|      1|               1.0|\n",
      "|[71.421]|      1|               1.0|\n",
      "|[69.819]|      1|               1.0|\n",
      "|[78.242]|      1|               1.0|\n",
      "|[76.384]|      1|0.7923809523809524|\n",
      "|[73.747]|      1|               1.0|\n",
      "|[75.635]|      1|               1.0|\n",
      "|[64.062]|      0|             0.025|\n",
      "|[64.698]|      0|0.6973809523809524|\n",
      "| [70.65]|      1|               1.0|\n",
      "|[70.964]|      1|               1.0|\n",
      "|[72.535]|      1|               1.0|\n",
      "|[77.588]|      1|               1.0|\n",
      "|[74.241]|      1|               1.0|\n",
      "|[66.803]|      1|               1.0|\n",
      "|[62.069]|      0|0.2441666666666667|\n",
      "|[63.785]|      0|             0.025|\n",
      "| [75.64]|      1|               1.0|\n",
      "|[65.483]|      1|0.6973809523809524|\n",
      "|[72.777]|      1|               1.0|\n",
      "|[79.972]|      1|               1.0|\n",
      "|[72.396]|      1|               1.0|\n",
      "|[74.143]|      1|               1.0|\n",
      "|[74.249]|      1|               1.0|\n",
      "|[73.422]|      1|               1.0|\n",
      "|[62.698]|      1|0.2441666666666667|\n",
      "|[76.423]|      0|0.7923809523809524|\n",
      "|[79.829]|      1|               1.0|\n",
      "|[79.441]|      1|               1.0|\n",
      "|[74.852]|      1|               1.0|\n",
      "|[73.005]|      1|               1.0|\n",
      "|[75.748]|      1|               1.0|\n",
      "|[76.486]|      1|               1.0|\n",
      "|[79.313]|      1|               1.0|\n",
      "|[79.406]|      1|               1.0|\n",
      "|[81.757]|      1|               1.0|\n",
      "|[80.546]|      1|               1.0|\n",
      "|[74.543]|      1|               1.0|\n",
      "|[79.762]|      1|               1.0|\n",
      "|[80.196]|      1|               1.0|\n",
      "|[75.563]|      1|               1.0|\n",
      "|[72.476]|      1|               1.0|\n",
      "|[74.002]|      1|               1.0|\n",
      "|[74.663]|      1|               1.0|\n",
      "|[80.941]|      1|               1.0|\n",
      "|[80.884]|      1|               1.0|\n",
      "|[81.701]|      1|               1.0|\n",
      "|[79.425]|      1|               1.0|\n",
      "|[80.204]|      1|               1.0|\n",
      "+--------+-------+------------------+\n",
      "\n"
     ]
    }
   ],
   "source": [
    "predictions.show(100)"
   ]
  },
  {
   "cell_type": "code",
   "execution_count": null,
   "metadata": {
    "collapsed": true
   },
   "outputs": [],
   "source": []
  },
  {
   "cell_type": "code",
   "execution_count": null,
   "metadata": {
    "collapsed": true
   },
   "outputs": [],
   "source": []
  },
  {
   "cell_type": "code",
   "execution_count": null,
   "metadata": {
    "collapsed": true
   },
   "outputs": [],
   "source": []
  }
 ],
 "metadata": {
  "kernelspec": {
   "display_name": "Python 3",
   "language": "python",
   "name": "python3"
  },
  "language_info": {
   "codemirror_mode": {
    "name": "ipython",
    "version": 3
   },
   "file_extension": ".py",
   "mimetype": "text/x-python",
   "name": "python",
   "nbconvert_exporter": "python",
   "pygments_lexer": "ipython3",
   "version": "3.5.4"
  }
 },
 "nbformat": 4,
 "nbformat_minor": 2
}
